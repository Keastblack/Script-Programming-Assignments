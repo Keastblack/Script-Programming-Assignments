{
 "metadata": {
  "name": "2010136019 assignment01.ipynb",
  "signature": "sha256:38ab8672a267c3776b96cacc0f3707ac7986246cc30a642d2f6e1d45fa302181"
 },
 "nbformat": 3,
 "nbformat_minor": 0,
 "worksheets": [
  {
   "cells": [
    {
     "cell_type": "markdown",
     "metadata": {},
     "source": [
      "|\uacfc\ubaa9\uba85|\uc2a4\ud06c\ub9bd\ud2b8 \ud504\ub85c\uadf8\ub798\ubc0d|\n",
      "|-|-|\n",
      "|\uacfc\uc81c\uba85|Assignment01|\n",
      "|\ud559\ubd80|\ucef4\ud4e8\ud130\uacf5\ud559\ubd80|\n",
      "|\ud559\ubc88|2010136019|\n",
      "|\uc774\ub984|\uae40\ub3d9\ud604|\n",
      "|\uc81c\ucd9c\uc77c\uc790|14.09.17|\n"
     ]
    },
    {
     "cell_type": "heading",
     "level": 3,
     "metadata": {},
     "source": [
      "\ubb38\uc81c1. a=\"Hello Python\" \ubb38\uc790\uc5f4\uc744 Slicing\uacfc \uc5f0\uacb0 \uc5f0\uc0b0\uc790 (+)\ub97c \uc0ac\uc6a9\ud558\uc5ec \"Python Hello\"\ub85c \ubcc0\uacbd\ud558\uc2dc\uc624."
     ]
    },
    {
     "cell_type": "markdown",
     "metadata": {},
     "source": [
      " #### [\uc8fc\uc758] a \ubcc0\uc218 \uc790\uccb4\uc5d0 \"Python Hello\" \ubb38\uc790\uc5f4\uc774 \uc800\uc7a5\ub418\uc5b4\uc57c \ud568 "
     ]
    },
    {
     "cell_type": "code",
     "collapsed": false,
     "input": [
      "a=\"Hello Python\"\n",
      "a = a[6:] + \" \" + a[:-7]\n",
      "print a"
     ],
     "language": "python",
     "metadata": {},
     "outputs": [
      {
       "output_type": "stream",
       "stream": "stdout",
       "text": [
        "Python Hello\n"
       ]
      }
     ],
     "prompt_number": 3
    },
    {
     "cell_type": "markdown",
     "metadata": {},
     "source": [
      "* Slicing\uc744 \uc0ac\uc6a9\ud558\uc5ec a\ub0b4\uc5d0\uc11c \ud544\uc694\ud55c \ubb38\uc790\uc5f4\uc744 \ucd94\ucd9c\ud55c \ud6c4 \uc774\uac83\uc744 \ub2e4\uc2dc \uacb0\ud569\ud558\uc5ec a\uc5d0 \uc785\ub825\ud558\uc600\ub2e4. "
     ]
    },
    {
     "cell_type": "heading",
     "level": 3,
     "metadata": {},
     "source": [
      "\ubb38\uc81c2. b=\"Hello Python World\" \ubb38\uc790\uc5f4\uc744 Slicing\uacfc \uc5f0\uacb0 \uc5f0\uc0b0\uc790 (+)\ub97c \uc0ac\uc6a9\ud558\uc5ec \"World Python Hello\"\ub85c \ubcc0\uacbd\ud558\uc2dc\uc624."
     ]
    },
    {
     "cell_type": "markdown",
     "metadata": {},
     "source": [
      "#### [\uc8fc\uc758] b \ubcc0\uc218 \uc790\uccb4\uc5d0 \"Python Hello\" \ubb38\uc790\uc5f4\uc774 \uc800\uc7a5\ub418\uc5b4\uc57c \ud568 "
     ]
    },
    {
     "cell_type": "code",
     "collapsed": false,
     "input": [
      "b = \"Hello Python World\"\n",
      "b = b[13:] + b[5:13] + b[:5]\n",
      "print b"
     ],
     "language": "python",
     "metadata": {},
     "outputs": [
      {
       "output_type": "stream",
       "stream": "stdout",
       "text": [
        "World Python Hello\n"
       ]
      }
     ],
     "prompt_number": 38
    },
    {
     "cell_type": "markdown",
     "metadata": {},
     "source": [
      "* \uc774\uac83 \ub610\ud55c Slicing\uc744 \uc0ac\uc6a9\ud558\uc5ec b\ub0b4\uc5d0\uc11c \ud544\uc694\ud55c \ubb38\uc790\uc5f4\uc744 \ucd94\ucd9c\ud55c \ud6c4 \uc774\uac83\uc744 \ub2e4\uc2dc \uacb0\ud569\ud558\uc5ec b\uc5d0 \uc785\ub825, print\ub97c \ud1b5\ud574 \ucd9c\ub825\ud558\uc600\ub2e4."
     ]
    },
    {
     "cell_type": "heading",
     "level": 3,
     "metadata": {},
     "source": [
      "\ubb38\uc81c3. c=\"Hello\"\ub97c \"olleH\"\ub85c \ubcc0\uacbd\ud558\uc2dc\uc624."
     ]
    },
    {
     "cell_type": "markdown",
     "metadata": {},
     "source": [
      "* #### [\uc8fc\uc758] c \ubcc0\uc218 \uc790\uccb4\uc5d0 \"olleH\" \ubb38\uc790\uc5f4\uc774 \uc800\uc7a5\ub418\uc5b4\uc57c \ud568"
     ]
    },
    {
     "cell_type": "code",
     "collapsed": false,
     "input": [
      "c = \"Hello\"\n",
      "c = c[::-1]\n",
      "print c"
     ],
     "language": "python",
     "metadata": {},
     "outputs": [
      {
       "output_type": "stream",
       "stream": "stdout",
       "text": [
        "olleH\n"
       ]
      }
     ],
     "prompt_number": 6
    },
    {
     "cell_type": "markdown",
     "metadata": {},
     "source": [
      "* Slicing\uc758 \uc138 \uc778\uc790\uc911 \ub9c8\uc9c0\ub9c9 \uc778\uc790 step\uc758 \uac12\uc744 '-1'\ub85c \uc124\uc815\ud558\uc5ec \uac70\uafb8\ub85c \ucd9c\ub825\ud558\uac8c \ub9cc\ub4e4\uc5c8\ub2e4."
     ]
    },
    {
     "cell_type": "heading",
     "level": 3,
     "metadata": {},
     "source": [
      "\ubb38\uc81c4. s=\"python\"\uc5d0 \ub300\ud574 \ub2e4\uc74c \ubb38\uc81c\ub97c \ud480\uc5b4\ubcf4\uc2dc\uc624."
     ]
    },
    {
     "cell_type": "heading",
     "level": 4,
     "metadata": {},
     "source": [
      "1. s[0], s[0][0], s[0][0][0]\uc740 \uac01\uac01 \uc5b4\ub5a4 \uac12\uc774 \ub098\uc624\ub294\uc9c0 \ud655\uc778\ud558\uace0 \uadf8 \uc774\uc720\ub97c \ub098\ub984\ub300\ub85c \uc124\uba85\ud574 \ubcf4\uc2dc\uc624."
     ]
    },
    {
     "cell_type": "code",
     "collapsed": false,
     "input": [
      "s = \"python\"\n",
      "print s[0], s[0][0] , s[0][0][0]"
     ],
     "language": "python",
     "metadata": {},
     "outputs": [
      {
       "output_type": "stream",
       "stream": "stdout",
       "text": [
        "p p p\n"
       ]
      }
     ],
     "prompt_number": 11
    },
    {
     "cell_type": "markdown",
     "metadata": {},
     "source": [
      "* \ubb38\uc790\uc5f4 s\ub294 s={p,y,t,h,o,n}\uc73c\ub85c \ubcfc \uc218 \uc788\uc2b5\ub2c8\ub2e4. s[0]\uc740 s\uc758 \uccab \ubc88\uc9f8 \uac1d\uccb4\ub97c \uac00\ub9ac\ud0a4\ubbc0\ub85c p\uc785\ub2c8\ub2e4. s[0][0]\uc740 s[0]\uac1d\uccb4\uc758 \uccab \ubc88\uc9f8 \uac1d\uccb4\ub97c \uac00\ub9ac\ud0a4\ubbc0\ub85c \uc774\uac83 \ub610\ud55c p\uc785\ub2c8\ub2e4. s[0][0][0]\uc740 s[0][0]\uc758 \uccab \ubc88\uc9f8 \uac1d\uccb4\ub97c \uac00\ub9ac\ud0a4\ubbc0\ub85c \uc5ed\uc2dc p\uc785\ub2c8\ub2e4.  "
     ]
    },
    {
     "cell_type": "heading",
     "level": 4,
     "metadata": {},
     "source": [
      "2. s[-100], s[100]\uc740 \uac12\uc774 \ub098\uc624\ub294\uc9c0 \uc5d0\ub7ec\uac00 \ub098\uc624\ub294\uc9c0 \ud655\uc778\ud558\uace0 \uadf8 \uacb0\uacfc\uc5d0 \ub300\ud55c \uc774\uc720\ub97c \ub098\ub984\ub300\ub85c \uc124\uba85\ud574 \ubcf4\uc2dc\uc624."
     ]
    },
    {
     "cell_type": "code",
     "collapsed": false,
     "input": [
      "s = \"python\"\n",
      "print s[-100]\n",
      "print s[100]"
     ],
     "language": "python",
     "metadata": {},
     "outputs": [
      {
       "ename": "IndexError",
       "evalue": "string index out of range",
       "output_type": "pyerr",
       "traceback": [
        "\u001b[1;31m---------------------------------------------------------------------------\u001b[0m\n\u001b[1;31mIndexError\u001b[0m                                Traceback (most recent call last)",
        "\u001b[1;32m<ipython-input-1-fb3b99675773>\u001b[0m in \u001b[0;36m<module>\u001b[1;34m()\u001b[0m\n\u001b[0;32m      1\u001b[0m \u001b[0ms\u001b[0m \u001b[1;33m=\u001b[0m \u001b[1;34m\"python\"\u001b[0m\u001b[1;33m\u001b[0m\u001b[0m\n\u001b[1;32m----> 2\u001b[1;33m \u001b[1;32mprint\u001b[0m \u001b[0ms\u001b[0m\u001b[1;33m[\u001b[0m\u001b[1;33m-\u001b[0m\u001b[1;36m100\u001b[0m\u001b[1;33m]\u001b[0m\u001b[1;33m\u001b[0m\u001b[0m\n\u001b[0m\u001b[0;32m      3\u001b[0m \u001b[1;32mprint\u001b[0m \u001b[0ms\u001b[0m\u001b[1;33m[\u001b[0m\u001b[1;36m100\u001b[0m\u001b[1;33m]\u001b[0m\u001b[1;33m\u001b[0m\u001b[0m\n",
        "\u001b[1;31mIndexError\u001b[0m: string index out of range"
       ]
      }
     ],
     "prompt_number": 1
    },
    {
     "cell_type": "markdown",
     "metadata": {},
     "source": [
      "* \ubb38\uc790\uc5f4\uc758 \uc778\ub371\uc2a4 \ubc94\uc704\ub97c \ubc97\uc5b4\ub0ac\uc73c\ubbc0\ub85c \uc5d0\ub7ec\uac00 \ubc1c\uc0dd\ud55c\ub2e4. \uc778\ub371\uc2a4 \uae38\uc774\uac00 n\uc77c\ub54c \ud5c8\uc6a9 \uac00\ub2a5\ud55c \uc778\ub371\uc2a4 \ubc94\uc704\ub294 -n~(n-1)\uc774\ub2e4."
     ]
    },
    {
     "cell_type": "heading",
     "level": 4,
     "metadata": {},
     "source": [
      "3. s[-100, 100]\uc740 \uac12\uc774 \ub098\uc624\ub294\uc9c0 \uc5d0\ub7ec\uac00 \ub098\uc624\ub294\uc9c0 \ud655\uc778\ud558\uace0 \uadf8 \uacb0\uacfc\uc5d0 \ub300\ud55c \uc774\uc720\ub97c \ub098\ub984\ub300\ub85c \uc124\uba85\ud574 \ubcf4\uc2dc\uc624."
     ]
    },
    {
     "cell_type": "code",
     "collapsed": false,
     "input": [
      "s = \"python\"\n",
      "print s[-100, 100]"
     ],
     "language": "python",
     "metadata": {},
     "outputs": [
      {
       "ename": "TypeError",
       "evalue": "string indices must be integers, not tuple",
       "output_type": "pyerr",
       "traceback": [
        "\u001b[1;31m---------------------------------------------------------------------------\u001b[0m\n\u001b[1;31mTypeError\u001b[0m                                 Traceback (most recent call last)",
        "\u001b[1;32m<ipython-input-2-20041a732f7c>\u001b[0m in \u001b[0;36m<module>\u001b[1;34m()\u001b[0m\n\u001b[0;32m      1\u001b[0m \u001b[0ms\u001b[0m \u001b[1;33m=\u001b[0m \u001b[1;34m\"python\"\u001b[0m\u001b[1;33m\u001b[0m\u001b[0m\n\u001b[1;32m----> 2\u001b[1;33m \u001b[1;32mprint\u001b[0m \u001b[0ms\u001b[0m\u001b[1;33m[\u001b[0m\u001b[1;33m-\u001b[0m\u001b[1;36m100\u001b[0m\u001b[1;33m,\u001b[0m \u001b[1;36m100\u001b[0m\u001b[1;33m]\u001b[0m\u001b[1;33m\u001b[0m\u001b[0m\n\u001b[0m",
        "\u001b[1;31mTypeError\u001b[0m: string indices must be integers, not tuple"
       ]
      }
     ],
     "prompt_number": 2
    },
    {
     "cell_type": "markdown",
     "metadata": {},
     "source": [
      "* [] \uc548\uc5d0 \uc785\ub825\ud55c \uac12\uc774 \ud29c\ud50c \ud615\uc2dd(','\ub97c \uc774\uc6a9\ud558\uc5ec \ud45c\uae30)\uc774\uae30 \ub54c\ubb38\uc5d0 \uadf8\ub7f0 \uac83 \uac19\ub2e4."
     ]
    },
    {
     "cell_type": "heading",
     "level": 4,
     "metadata": {},
     "source": [
      "4. s[1:-1]\uc758 \uacb0\uacfc\ub97c \ud655\uc778\ud558\uace0 \uadf8 \uacb0\uacfc\uc5d0 \ub300\ud55c \uc774\uc720\ub97c \uc815\ud655\ud558\uac8c \uc124\uba85\ud558\uc2dc\uc624."
     ]
    },
    {
     "cell_type": "code",
     "collapsed": false,
     "input": [
      "s=\"python\"\n",
      "print s[1:-1]"
     ],
     "language": "python",
     "metadata": {},
     "outputs": [
      {
       "output_type": "stream",
       "stream": "stdout",
       "text": [
        "ytho\n"
       ]
      }
     ],
     "prompt_number": 3
    },
    {
     "cell_type": "markdown",
     "metadata": {},
     "source": [
      "* \ubb38\uc790\uc5f4 s\ub294 s={p,y,t,h,o,n}\ud615\uc2dd\uc73c\ub85c \uc774\ub8e8\uc5b4\uc838 \uc788\ub2e4. \uc774\uac83\uc740 \uace7, s[0]=p, s[1]=y, ..., s[5]=n \uc784\uc744 \ub73b\ud55c\ub2e4. print s[x:y]\ub294 \"s\ubb38\uc790\uc5f4\uc758 s[x]~s[y-1]\uae4c\uc9c0 \ucd9c\ub825\ud55c\ub2e4\"\ub97c \ub73b\ud55c\ub2e4. \uc5ec\uae30\uc11c x\ub098 y\uac00 \uc8fc\uc5b4\uc9c4 \ubb38\uc790\uc5f4\uc758 \uc778\ub371\uc2a4 \ubc94\uc704\ub97c \ucd08\uacfc\ud558\uba74, \ucd08\uacfc\ub41c \ubc29\ud5a5\uc73c\ub85c \ub2e4\uc2dc \uc778\ub371\uc2a4\ub97c \ub298\uc774\uac70\ub098 \uc904\uc778\ub2e4. \uc774 \ubb38\uc81c\ucc98\ub7fc \uc778\ub371\uc2a4\uac00 0~5 \ubc94\uc704\uc774\uba74 ...4,5,0,1,2,3,4,5,0,1,2,3,... \uc774\ub7f0\uc2dd\uc73c\ub85c \uc778\ub371\uc2a4\uac00 \uac00\uc0c1\uc73c\ub85c \uc788\ub294 \uac83\uc774\ub2e4. \ub530\ub77c\uc11c s[1]\ubd80\ud130 s[-1-1]=s[-2]\uae4c\uc9c0 \ucd9c\ub825\uc778\ub370 s[-2]\ub294 s[0]\uc5d0\uc11c \uc67c\ucabd\uc73c\ub85c \ub450 \uce78 \uc774\ub3d9\ud55c s[4]\uc774\ubbc0\ub85c, s[1]\ubd80\ud130 s[4]\uae4c\uc9c0 \ucd9c\ub825\ud55c \"ytho\"\uac00 \ucd9c\ub825\ub41c\ub2e4."
     ]
    },
    {
     "cell_type": "heading",
     "level": 4,
     "metadata": {},
     "source": [
      "5. s[3:-3]\uc758 \uacb0\uacfc\ub97c \ud655\uc778\ud558\uace0 \uadf8 \uacb0\uacfc\uc5d0 \ub300\ud55c \uc774\uc720\ub97c \uc815\ud655\ud558\uac8c \uc124\uba85\ud558\uc2dc\uc624."
     ]
    },
    {
     "cell_type": "code",
     "collapsed": false,
     "input": [
      "s=\"python\"\n",
      "print s[3:-3]"
     ],
     "language": "python",
     "metadata": {},
     "outputs": [
      {
       "output_type": "stream",
       "stream": "stdout",
       "text": [
        "\n"
       ]
      }
     ],
     "prompt_number": 4
    },
    {
     "cell_type": "markdown",
     "metadata": {},
     "source": [
      "4\ubc88\uc5d0\uc11c \uc124\uba85\ud55c \uac83\ucc98\ub7fc print s[3:-3]\uc740 s[3]~(s[-3-1]=s[-4])\uae4c\uc9c0 \ucd9c\ub825\ud55c\ub2e4. s[-4]\ub294 s[0]\uc5d0\uc11c \uc88c\uce21\uc73c\ub85c 4\uce78 \uc774\ub3d9\ud55c s[2]\uc774\ub2e4. s[2]\ub294 s[3]\ubcf4\ub2e4 \ud55c\uce78 \uc55e\uc5d0 \uc788\uc73c\ubbc0\ub85c \uc2dc\uc791\uc810\uc774 s[3]\uc774\uace0 \ub05d\uc810\uc774 s[2]\uc778 \uac83\uc740 \ubaa8\uc21c\uc774\ub2e4. \ub530\ub77c\uc11c \uc544\ubb34\uac83\ub3c4 \ucd9c\ub825\ub418\uc9c0 \uc54a\ub294\ub2e4.\uc5ec\uae30\uc11c \ub098\ub294 x,y\uac00 \ud5c8\uc6a9 \uc778\ub371\uc2a4 \ubc94\uc704\uc77c \ub54c, s[x:y]\uc5d0\uc11c x<y\uc5ec\uc57c \ucd9c\ub825\ub41c\ub2e4\ub294 \uc0ac\uc2e4\uc744 \uc54c\uac8c \ub418\uc5c8\ub2e4."
     ]
    },
    {
     "cell_type": "heading",
     "level": 3,
     "metadata": {},
     "source": [
      "5. for\ubb38\uc744 \ud65c\uc6a9\ud558\uc5ec 1\ubd80\ud130 100\uc0ac\uc774\uc758 \ud640\uc218\ub97c \ucd9c\ub825\ud558\uc2dc\uc624."
     ]
    },
    {
     "cell_type": "code",
     "collapsed": false,
     "input": [
      "for x in range(1,101,1): #1\ubd80\ud130 100\uae4c\uc9c0 1\uc529 \uac00\uc0b0\ud558\uba70 for\ubb38 \uc2e4\ud589\n",
      "    if(x%2 == 1): #2\ub85c \ub098\ub204\uc5c8\uc744 \ub54c \ub098\uba38\uc9c0\uac00 1\uc774\uba74 \ud640\uc218\uc774\ub2e4. \n",
      "        print x,"
     ],
     "language": "python",
     "metadata": {},
     "outputs": [
      {
       "output_type": "stream",
       "stream": "stdout",
       "text": [
        "1 3 5 7 9 11 13 15 17 19 21 23 25 27 29 31 33 35 37 39 41 43 45 47 49 51 53 55 57 59 61 63 65 67 69 71 73 75 77 79 81 83 85 87 89 91 93 95 97 99\n"
       ]
      }
     ],
     "prompt_number": 5
    },
    {
     "cell_type": "markdown",
     "metadata": {},
     "source": [
      "* 1\ubd80\ud130 100\uae4c\uc9c0 1\uc529 \uac00\uc0b0\ud558\uba70 if\ubb38\uc744 \ud65c\uc6a9\ud558\uc5ec \ud640\uc218\ub97c \ucc3e\uc544 \ucd9c\ub825\ud558\uc600\ub2e4. \ud640\uc218\ub294 2\ub85c \ub098\ub204\uc5c8\uc744\ub54c \ub098\uba38\uc9c0\uac00 1\uc778 \uac83\uc744 \ucc38\uc870\ud558\uc600\ub2e4."
     ]
    },
    {
     "cell_type": "heading",
     "level": 3,
     "metadata": {},
     "source": [
      "6. While\ubb38\uc744 \ud65c\uc6a9\ud558\uc5ec 1\ubd80\ud130 100\uc0ac\uc774\uc758 \uc9dd\uc218\uc758 \ud569\uc744 \uacc4\uc0b0\ud558\uc5ec \ucd9c\ub825\ud558\uc2dc\uc624."
     ]
    },
    {
     "cell_type": "code",
     "collapsed": false,
     "input": [
      "i = 0\n",
      "result = 0 #\uc9dd\uc218\uc758 \ud569\uc744 \uc800\uc7a5\n",
      "\n",
      "while i<100:\n",
      "    i+=1\n",
      "    if(i%2 == 0): #2\ub85c \ub098\ub204\uc5c8\uc744 \ub54c \ub098\uba38\uc9c0\uac00 0\uc774\uba74 \uc9dd\uc218\uc774\ub2e4.\n",
      "        result += i\n",
      "        \n",
      "print result    "
     ],
     "language": "python",
     "metadata": {},
     "outputs": [
      {
       "output_type": "stream",
       "stream": "stdout",
       "text": [
        "2550\n"
       ]
      }
     ],
     "prompt_number": 6
    },
    {
     "cell_type": "markdown",
     "metadata": {},
     "source": [
      "* while\ubb38\uc744 \uc0ac\uc6a9\ud558\uc5ec 1\ubd80\ud130 100\uae4c\uc9c0 i\uac12\uc744 1\uc529 \uac00\uc0b0\ud558\uba70 \uac80\uc0c9\ud558\uba70 if\ubb38\uc744 \ud1b5\ud574 \uc9dd\uc218\ub97c \ucc3e\ub294\ub2e4. \uc9dd\uc218\ub97c \ucc3e\uc73c\uba74 \uc9dd\uc218\uc758 \ud569\uc744 \uc800\uc7a5\ud558\ub294 \ubcc0\uc218 result\uc5d0 \uadf8 \uac12\uc744 \ub354\ud55c\ub2e4. "
     ]
    },
    {
     "cell_type": "heading",
     "level": 3,
     "metadata": {},
     "source": [
      "7. \uc678\ubd80\ub85c \ubd80\ud130 \uc815\uc218\ub97c \uc785\ub825\ubc1b\uc544\uc11c 1\ubd80\ud130 \uadf8 \uc0ac\uc774\uc5d0 \uc874\uc7ac\ud558\ub294 \uc18c\uc218(Prime number)\ub97c \ucd9c\ub825\ud558\ub294 \ud30c\uc774\uc36c \ud504\ub85c\uadf8\ub7a8\uc744 \uc791\uc131\ud558\uc2dc\uc624."
     ]
    },
    {
     "cell_type": "code",
     "collapsed": false,
     "input": [
      "result = 0; #\uc18c\uc218\ub97c \ud569\uc0b0\ud55c \uacb0\uacfc\uac12\n",
      "i=0; j=0 #i\uc640 j\ub294 \uc18c\uc218\ub97c \ucc3e\uae30 \uc704\ud55c \uc778\uc790 \ubcc0\uc218 \n",
      "num = input('insert integer: ') #\uc678\ubd80\ub85c\ubd80\ud130 \uc785\ub825\ubc1b\ub294 \uc815\uc218\n",
      "\n",
      "for i in range(1, num+1, 1): #1\ubd80\ud130 num\uae4c\uc9c0 1\uc529 \uac00\uc0b0\ud558\uba70 \uc2e4\ud589\n",
      "    for j in range(2, i+1, 1): #2\ubd80\ud130 i\uae4c\uc9c0 1\uc529 \uac00\uc0b0\ud558\uba70 \uc2e4\ud589\n",
      "        if((i%j) == 0): \n",
      "            break;\n",
      "            \n",
      "    if(j==i):\n",
      "        result += j;\n",
      "    \n",
      "print result"
     ],
     "language": "python",
     "metadata": {},
     "outputs": [
      {
       "name": "stdout",
       "output_type": "stream",
       "stream": "stdout",
       "text": [
        "insert integer: 20\n"
       ]
      },
      {
       "output_type": "stream",
       "stream": "stdout",
       "text": [
        "77\n"
       ]
      }
     ],
     "prompt_number": 7
    },
    {
     "cell_type": "markdown",
     "metadata": {},
     "source": [
      "* \uc18c\uc218\ub97c \ucc3e\uae30 \uc704\ud574 i,j \ub450 \uc778\uc790 \ubcc0\uc218\ub97c \uc0ac\uc6a9\ud55c\ub2e4. \uba3c\uc800 i\ub294 1\ubd80\ud130 \uc785\ub825\ubc1b\uc740 \uc815\uc218\uac12 num\uae4c\uc9c0 \ud0d0\uc0c9\ud558\uae30 \uc704\ud55c \uc778\uc790\ubcc0\uc218\uc774\ub2e4. i\uac12\uc774 \uc9c0\uc815\ub418\uc5c8\uc73c\uba74 \ub2e4\uc2dc for\ubb38\uc744 \uc0ac\uc6a9\ud558\uc5ec i\ubcf4\ub2e4 \uc791\uac70\ub098 \uac19\uc740 \uac12 j\ub97c \ud638\ucd9c\ud558\uace0 i\ub97c j\ub85c \ub098\ub204\uc5b4\ubcf8\ub2e4. \uc5ec\uae30\uc11c j\uac00 2\ubd80\ud130 \uc2dc\uc791\ud558\ub294 \uc774\uc720\ub294 \uc77c\ub2e8 \ubaa8\ub4e0 \uc218\ub294 1\ub85c \ub098\ub204\uc5b4\uc9c0\uace0, i\uac12\uc774 1\uc77c\ub54c \uacc4\uc0b0\uc744 \ud558\uc9c0 \uc54a\uae30 \uc704\ud568\uc774\ub2e4(1\uc740 \uc18c\uc218\uac00 \uc544\ub2c8\ubbc0\ub85c). i\uac00 j\ub85c \ub098\ub204\uc5b4 \ub5a8\uc5b4\uc9c0\uba74, \uc77c\ub2e8 \ud574\ub2f9 \ud3ec\ubb38\uc744 break\ub97c \ud1b5\ud574 \uc885\ub8cc\ud55c\ub2e4. \uadf8 \ud6c4 if\ubb38\uc744 \ud1b5\ud574 i\uc640 j\uc758 \uac12\uc774 \uac19\ub2e4\uba74 \uc989, \ucd5c\ucd08\ub85c \ub098\ub204\uc5b4\uc9c0\ub294 \uc218\uac00 \uc790\uae30 \uc790\uc2e0\uc774\ub77c\uba74, \uc774\uac83\uc740 \uc18c\uc218\uc774\ubbc0\ub85c \uc774\uac83\uc744 result\uc5d0 \uc800\uc7a5\ud55c\ub2e4. \ucd5c\uc885\uc801\uc73c\ub85c result\uac12\uc744 \ucd9c\ub825\ud55c\ub2e4."
     ]
    },
    {
     "cell_type": "markdown",
     "metadata": {},
     "source": [
      "* ### \uc219\uc81c \uc774\ud6c4 \uc18c\uac10: \n",
      "7\uac1c\uc758 \ubb38\uc81c\uc758 \ud480\uc774\uc694\uc18c\ub4e4\uc740 \ub300\ubd80\ubd84 \uc218\uc5c5\uc2dc\uac04\uc5d0 \ubc30\uc6b4 \ub0b4\uc6a9\uc774\ub77c \uc5b4\ub824\uc6c0\uc740 \uacaa\uc9c0 \uc54a\uc558\uc2b5\ub2c8\ub2e4.\n",
      "\n",
      "\uc9c0\uae08\uae4c\uc9c0 \ubc30\uc6b4 \ub0b4\uc6a9\uc744 \ubcf5\uc2b5\ud55c\ub2e4\ub294 \ucc28\uc6d0\uc5d0\uc11c \ub9e4\uc6b0 \uc88b\uc740\uac83 \uac19\uc2b5\ub2c8\ub2e4. \n",
      "\n",
      "\ub610\ud55c \uacfc\uc81c\ub97c \uc791\uc131\ud558\uba74\uc11c python\uc758 \ub2e4\uc591\ud55c \uae30\ub2a5\ub4e4\uc744 \ucc3e\uc544\uac00\uba70 \ud559\uc2b5\ud560 \uc218 \uc788\uc5b4 \uc18c\uc18c\ud55c \uc7ac\ubbf8\ub97c\n",
      "\n",
      "\ub290\ub084 \uc218 \uc788\uc5c8\uc2b5\ub2c8\ub2e4."
     ]
    }
   ],
   "metadata": {}
  }
 ]
}