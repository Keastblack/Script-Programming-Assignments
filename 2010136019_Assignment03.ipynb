{
 "metadata": {
  "name": "",
  "signature": "sha256:729c9570a4106f2cf5291606096d8e072fa4646b18d042a2c0fcfb81be0c0fb5"
 },
 "nbformat": 3,
 "nbformat_minor": 0,
 "worksheets": [
  {
   "cells": [
    {
     "cell_type": "markdown",
     "metadata": {},
     "source": [
      "|\uacfc\ubaa9\uba85|\uc2a4\ud06c\ub9bd\ud2b8 \ud504\ub85c\uadf8\ub798\ubc0d|\n",
      "|-|-|\n",
      "|\ud559\ubd80|\ucef4\ud4e8\ud130\uacf5\ud559\ubd80|\n",
      "|\ud559\ubc88|2010136019|\n",
      "|\uc774\ub984|\uae40\ub3d9\ud604|\n",
      "|\uc81c\ucd9c\uc77c\uc790|14.10.19|"
     ]
    },
    {
     "cell_type": "heading",
     "level": 3,
     "metadata": {},
     "source": [
      "1. L=[1,2,3,4,5]\uc77c \ub54c \ub2e4\uc74c \uac01 \ubb38\uc7a5\uc744 \uc218\ud589\ud55c \ud6c4\uc758 \uacb0\uacfc\ub97c \ubcf4\uace0 \ub0a9\ub4dd\ud560 \ub9cc\ud55c \uc774\uc720\ub97c \uc124\uba85\ud558\uc2dc\uc624."
     ]
    },
    {
     "cell_type": "heading",
     "level": 4,
     "metadata": {},
     "source": [
      "1)"
     ]
    },
    {
     "cell_type": "code",
     "collapsed": false,
     "input": [
      "L=[1,2,3,4,5]\n",
      "L[1:3] = [100]\n",
      "print L"
     ],
     "language": "python",
     "metadata": {},
     "outputs": [
      {
       "output_type": "stream",
       "stream": "stdout",
       "text": [
        "[1, 100, 4, 5]\n"
       ]
      }
     ],
     "prompt_number": 1
    },
    {
     "cell_type": "heading",
     "level": 4,
     "metadata": {},
     "source": [
      "'L[1:3] = [100]\uc740 1\ubc88 index\uc640 (3-1=)2\ubc88 index\uc758 \uac12\uc744 \uc624\ub978\ucabd \ub9ac\uc2a4\ud2b8 \uc790\ub8cc\ud615 [100]\uacfc \uce58\ud658\ud55c\ub2e4\ub294 \uc758\ubbf8\uc774\ub2e4. \ub530\ub77c\uc11c 1\ubc88 \uc778\ub371\uc2a4 \uac12 2\uc640 2\ubc88 \uc778\ub371\uc2a4 \uac12 3\uc774 100\uacfc \uce58\ud658\ub41c\ub2e4."
     ]
    },
    {
     "cell_type": "heading",
     "level": 4,
     "metadata": {},
     "source": [
      "2)"
     ]
    },
    {
     "cell_type": "code",
     "collapsed": false,
     "input": [
      "L=[1,2,3,4,5]\n",
      "L[1:3] = [(100)]\n",
      "print L"
     ],
     "language": "python",
     "metadata": {},
     "outputs": [
      {
       "output_type": "stream",
       "stream": "stdout",
       "text": [
        "[1, 100, 4, 5]\n"
       ]
      }
     ],
     "prompt_number": 17
    },
    {
     "cell_type": "heading",
     "level": 4,
     "metadata": {},
     "source": [
      "L \ub9ac\uc2a4\ud2b8 1,2\ubc88 \uc778\ub371\uc2a4\ub97c \ud29c\ud50c (100)\uc744 \uc6d0\uc18c\ub85c \uac16\ub294 \ub9ac\uc2a4\ud2b8\uc640 \uce58\ud658\ud55c\ub2e4\ub294 \uc758\ubbf8\uc774\ub2e4. \ud29c\ud50c \uc548\uc758 \uac12\uc774 \ud558\ub098\uc774\uae30 \ub54c\ubb38\uc5d0 \ub9ac\uc2a4\ud2b8 \uc548\uc5d0 \uce58\ud658\ub420 \ub54c \ud29c\ud50c\uc774 \ub9ac\uc2a4\ud2b8\ub85c \ubcc0\ud658\ub418\uc5c8\ub2e4."
     ]
    },
    {
     "cell_type": "heading",
     "level": 4,
     "metadata": {},
     "source": [
      "3)"
     ]
    },
    {
     "cell_type": "code",
     "collapsed": false,
     "input": [
      "L=[1,2,3,4,5]\n",
      "L[1:3] = 100\n",
      "print L"
     ],
     "language": "python",
     "metadata": {},
     "outputs": [
      {
       "ename": "TypeError",
       "evalue": "can only assign an iterable",
       "output_type": "pyerr",
       "traceback": [
        "\u001b[1;31m---------------------------------------------------------------------------\u001b[0m\n\u001b[1;31mTypeError\u001b[0m                                 Traceback (most recent call last)",
        "\u001b[1;32m<ipython-input-3-cdbe192bd161>\u001b[0m in \u001b[0;36m<module>\u001b[1;34m()\u001b[0m\n\u001b[0;32m      1\u001b[0m \u001b[0mL\u001b[0m\u001b[1;33m=\u001b[0m\u001b[1;33m[\u001b[0m\u001b[1;36m1\u001b[0m\u001b[1;33m,\u001b[0m\u001b[1;36m2\u001b[0m\u001b[1;33m,\u001b[0m\u001b[1;36m3\u001b[0m\u001b[1;33m,\u001b[0m\u001b[1;36m4\u001b[0m\u001b[1;33m,\u001b[0m\u001b[1;36m5\u001b[0m\u001b[1;33m]\u001b[0m\u001b[1;33m\u001b[0m\u001b[0m\n\u001b[1;32m----> 2\u001b[1;33m \u001b[0mL\u001b[0m\u001b[1;33m[\u001b[0m\u001b[1;36m1\u001b[0m\u001b[1;33m:\u001b[0m\u001b[1;36m3\u001b[0m\u001b[1;33m]\u001b[0m \u001b[1;33m=\u001b[0m \u001b[1;36m100\u001b[0m\u001b[1;33m\u001b[0m\u001b[0m\n\u001b[0m\u001b[0;32m      3\u001b[0m \u001b[1;32mprint\u001b[0m \u001b[0mL\u001b[0m\u001b[1;33m\u001b[0m\u001b[0m\n",
        "\u001b[1;31mTypeError\u001b[0m: can only assign an iterable"
       ]
      }
     ],
     "prompt_number": 3
    },
    {
     "cell_type": "heading",
     "level": 4,
     "metadata": {},
     "source": [
      "\uc2dc\ud000\uc2a4 \uc790\ub8cc\ud615\uc73c\ub85c \uce58\ud658\ud558\uc5ec\uc57c \ud558\ub294\ub370 \ud558\ub098\uc758 \uc815\uc218\ud615\uc73c\ub85c \uce58\ud658\ud558\ub824 \ud558\uae30 \ub54c\ubb38\uc5d0 \uc5d0\ub7ec\uac00 \ubc1c\uc0dd\ud558\uc600\ub2e4."
     ]
    },
    {
     "cell_type": "heading",
     "level": 4,
     "metadata": {},
     "source": [
      "4)"
     ]
    },
    {
     "cell_type": "code",
     "collapsed": false,
     "input": [
      "L=[1,2,3,4,5]\n",
      "L[1:3] = (100)\n",
      "print L"
     ],
     "language": "python",
     "metadata": {},
     "outputs": [
      {
       "ename": "TypeError",
       "evalue": "can only assign an iterable",
       "output_type": "pyerr",
       "traceback": [
        "\u001b[1;31m---------------------------------------------------------------------------\u001b[0m\n\u001b[1;31mTypeError\u001b[0m                                 Traceback (most recent call last)",
        "\u001b[1;32m<ipython-input-4-71c3f7f74669>\u001b[0m in \u001b[0;36m<module>\u001b[1;34m()\u001b[0m\n\u001b[0;32m      1\u001b[0m \u001b[0mL\u001b[0m\u001b[1;33m=\u001b[0m\u001b[1;33m[\u001b[0m\u001b[1;36m1\u001b[0m\u001b[1;33m,\u001b[0m\u001b[1;36m2\u001b[0m\u001b[1;33m,\u001b[0m\u001b[1;36m3\u001b[0m\u001b[1;33m,\u001b[0m\u001b[1;36m4\u001b[0m\u001b[1;33m,\u001b[0m\u001b[1;36m5\u001b[0m\u001b[1;33m]\u001b[0m\u001b[1;33m\u001b[0m\u001b[0m\n\u001b[1;32m----> 2\u001b[1;33m \u001b[0mL\u001b[0m\u001b[1;33m[\u001b[0m\u001b[1;36m1\u001b[0m\u001b[1;33m:\u001b[0m\u001b[1;36m3\u001b[0m\u001b[1;33m]\u001b[0m \u001b[1;33m=\u001b[0m \u001b[1;33m(\u001b[0m\u001b[1;36m100\u001b[0m\u001b[1;33m)\u001b[0m\u001b[1;33m\u001b[0m\u001b[0m\n\u001b[0m\u001b[0;32m      3\u001b[0m \u001b[1;32mprint\u001b[0m \u001b[0mL\u001b[0m\u001b[1;33m\u001b[0m\u001b[0m\n",
        "\u001b[1;31mTypeError\u001b[0m: can only assign an iterable"
       ]
      }
     ],
     "prompt_number": 4
    },
    {
     "cell_type": "heading",
     "level": 4,
     "metadata": {},
     "source": [
      "\uc774\uac83 \ub610\ud55c 3\ubc88\uacfc \uac19\uc740 \uc774\uc720\ub85c \uc5d0\ub7ec\uac00 \ubc1c\uc0dd\ud558\uc600\ub2e4. \uad04\ud638\ub294 \uc6b0\uc120\uc21c\uc704 \uc5f0\uc0b0\uc744 \uc758\ubbf8\ud55c\ub2e4."
     ]
    },
    {
     "cell_type": "heading",
     "level": 4,
     "metadata": {},
     "source": [
      "5)"
     ]
    },
    {
     "cell_type": "code",
     "collapsed": false,
     "input": [
      "L=[1,2,3,4,5]\n",
      "L[1:3] = (100, 101, 102)\n",
      "print L"
     ],
     "language": "python",
     "metadata": {},
     "outputs": [
      {
       "output_type": "stream",
       "stream": "stdout",
       "text": [
        "[1, 100, 101, 102, 4, 5]\n"
       ]
      }
     ],
     "prompt_number": 5
    },
    {
     "cell_type": "heading",
     "level": 4,
     "metadata": {},
     "source": [
      "\uc2dc\ud000\uc2a4\uc790\ub8cc\ud615 \ud29c\ud50c\uc744 \uc0c1\uc694\ud558\uc600\uae30 \ub54c\ubb38\uc5d0 \uc5d0\ub7ec\uac00 \ubc1c\uc0dd\ud558\uc9c0 \uc54a\ub294\ub2e4. \ub610\ud55c \ud29c\ud50c \uc790\ub8cc\ud615\uc774 \ub9ac\uc2a4\ud2b8 \uc790\ub8cc\ud615\uc73c\ub85c \ubcc0\uacbd\ub418\uc5c8\ub2e4."
     ]
    },
    {
     "cell_type": "heading",
     "level": 4,
     "metadata": {},
     "source": [
      "6)"
     ]
    },
    {
     "cell_type": "code",
     "collapsed": false,
     "input": [
      "L=[1,2,3,4,5]\n",
      "L[1:3] = [100, 101, 102]\n",
      "print L"
     ],
     "language": "python",
     "metadata": {},
     "outputs": [
      {
       "output_type": "stream",
       "stream": "stdout",
       "text": [
        "[1, 100, 101, 102, 4, 5]\n"
       ]
      }
     ],
     "prompt_number": 8
    },
    {
     "cell_type": "heading",
     "level": 4,
     "metadata": {},
     "source": [
      "\uc2dc\ud000\uc2a4 \uc790\ub8cc\ud615 \ub9ac\uc2a4\ud2b8\ub85c \uce58\ud658\ud558\uc600\uace0 \uc62c\ubc14\ub974\uac8c \ub3d9\uc791\ud55c\ub2e4."
     ]
    },
    {
     "cell_type": "heading",
     "level": 4,
     "metadata": {},
     "source": [
      "7)"
     ]
    },
    {
     "cell_type": "code",
     "collapsed": false,
     "input": [
      "L=[1,2,3,4,5]\n",
      "L[1:3] = [(100, 101, 102)]\n",
      "print L"
     ],
     "language": "python",
     "metadata": {},
     "outputs": [
      {
       "output_type": "stream",
       "stream": "stdout",
       "text": [
        "[1, (100, 101, 102), 4, 5]\n"
       ]
      }
     ],
     "prompt_number": 7
    },
    {
     "cell_type": "heading",
     "level": 4,
     "metadata": {},
     "source": [
      "(100, 101, 102) \ud558\ub098\uc758 \ud29c\ud50c\uc744 \uc6d0\uc18c\ub85c \uac16\ub294 \ub9ac\uc2a4\ud2b8\ub85c \uce58\ud658\ud558\uc600\ub2e4.\ub530\ub77c\uc11c \uc778\ub371\uc2a4 1,2 \uc790\ub9ac\uc5d0 (100,101,102)\uac00 \uce58\ud658\ub418\uc5c8\ub2e4."
     ]
    },
    {
     "cell_type": "heading",
     "level": 4,
     "metadata": {},
     "source": [
      "8)"
     ]
    },
    {
     "cell_type": "code",
     "collapsed": false,
     "input": [
      "L=[1,2,3,4,5]\n",
      "L[1:3] = [[100, 101, 102]]\n",
      "print L"
     ],
     "language": "python",
     "metadata": {},
     "outputs": [
      {
       "output_type": "stream",
       "stream": "stdout",
       "text": [
        "[1, [100, 101, 102], 4, 5]\n"
       ]
      }
     ],
     "prompt_number": 9
    },
    {
     "cell_type": "heading",
     "level": 4,
     "metadata": {},
     "source": [
      "[100, 101, 102] \ud558\ub098\uc758 \ub9ac\uc2a4\ud2b8\ub97c \uc6d0\uc18c\ub85c \uac16\ub294 \ub9ac\uc2a4\ud2b8\ub85c \uce58\ud658\ud558\uc600\ub2e4.\ub530\ub77c\uc11c \uc778\ub371\uc2a4 1,2 \uc790\ub9ac\uc5d0 [100,101,102]\uac00 \uce58\ud658\ub418\uc5c8\ub2e4."
     ]
    },
    {
     "cell_type": "heading",
     "level": 3,
     "metadata": {},
     "source": [
      "2. \ubb38\uc790\uc5f4 S='Hello World and Python'\uc5d0 \ub300\ud574 \ub2e4\uc74c \uc694\uad6c\uc0ac\ud56d\uc5d0 \ub300\ud55c Python \ucf54\ub4dc\ub97c \uc81c\uc2dc\ud558\uc2dc\uc624."
     ]
    },
    {
     "cell_type": "heading",
     "level": 4,
     "metadata": {},
     "source": [
      "1) \ub2e8\uc5b4\uc758 \uc21c\uc11c\uac00 \uc5ed\uc21c\uc73c\ub85c \ub418\uc5b4\uc9c4 \ubb38\uc790\uc5f4('Python and World Hello') \ub9cc\ub4e4\uae30"
     ]
    },
    {
     "cell_type": "code",
     "collapsed": false,
     "input": [
      "S='Hello World and Python'\n",
      "S2 = S.split() #\ub2e8\uc5b4\ubcc4\ub85c \ub098\ub214\n",
      "S2 = S2[::-1] #\ub098\ub208 \ub2e8\uc5b4\ub4e4\uc744 \uc5ed\uc21c\uc73c\ub85c \ubc30\uce58\n",
      "S2 = ' '.join(S2) #\ub098\ub208 \ub2e8\uc5b4\ub4e4\uc744 \uacf5\ubc31\ubb38\uc790\ub97c \ud1b5\ud574 \ubb38\uc790\uc5f4\ub85c \uc5f0\uacb0\n",
      "print S2"
     ],
     "language": "python",
     "metadata": {},
     "outputs": [
      {
       "output_type": "stream",
       "stream": "stdout",
       "text": [
        "Python and World Hello\n"
       ]
      }
     ],
     "prompt_number": 32
    },
    {
     "cell_type": "heading",
     "level": 4,
     "metadata": {},
     "source": [
      "2)1)\uc758 \uacb0\uacfc \ubb38\uc790\uc5f4\uc5d0 \ub300\ud574 \uba54\uc18c\ub4dc split\uacfc join\uc744 \uc774\uc6a9\ud558\uc5ec \uacf5\ubc31\uc744 \ubaa8\ub450 \uc5c6\uc5d4 \ubb38\uc790\uc5ec 'PythonandWorldHello'\uc744 \ub9cc\ub4dc\uc2dc\uc624."
     ]
    },
    {
     "cell_type": "code",
     "collapsed": false,
     "input": [
      "S='Hello World and Python'\n",
      "S2 = S.split() #\ub2e8\uc5b4\ubcc4\ub85c \ub098\ub214\n",
      "S2 = S2[::-1] #\ub098\ub208 \ub2e8\uc5b4\ub4e4\uc744 \uc5ed\uc21c\uc73c\ub85c \ubc30\uce58\n",
      "S2 = ''.join(S2) #\ub098\ub208 \ub2e8\uc5b4\ub4e4\uc744 \uacf5\ubc31\ubb38\uc790 \uc5c6\uc774 \ubb38\uc790\uc5f4\ub85c \uc5f0\uacb0\n",
      "print S2"
     ],
     "language": "python",
     "metadata": {},
     "outputs": [
      {
       "output_type": "stream",
       "stream": "stdout",
       "text": [
        "PythonandWorldHello\n"
       ]
      }
     ],
     "prompt_number": 30
    },
    {
     "cell_type": "heading",
     "level": 3,
     "metadata": {},
     "source": [
      "3. \ub2e4\uc74c \ucf54\ub4dc\ub97c \ubcf4\uace0 \ubb3c\uc74c\uc5d0 \ub2f5\ud558\uc2dc\uc624."
     ]
    },
    {
     "cell_type": "code",
     "collapsed": false,
     "input": [
      "a = [1, 2, 3]\n",
      "b = a * 3\n",
      "c = [a] * 3\n",
      "print b\n",
      "print c"
     ],
     "language": "python",
     "metadata": {},
     "outputs": [
      {
       "output_type": "stream",
       "stream": "stdout",
       "text": [
        "[1, 2, 3, 1, 2, 3, 1, 2, 3]\n",
        "[[1, 2, 3], [1, 2, 3], [1, 2, 3]]\n"
       ]
      }
     ],
     "prompt_number": 33
    },
    {
     "cell_type": "heading",
     "level": 3,
     "metadata": {},
     "source": [
      "1)\uc704 \ucf54\ub4dc\ub97c \uc218\ud589\ud55c \uc774\ud6c4 \ub2e4\uc74c \ucf54\ub4dc\ub97c \uc218\ud589\ud55c \ud6c4 b\uc640 c\uc758 \ub0b4\uc6a9\uc744 \ud655\uc778\ud558\uc2dc\uc624."
     ]
    },
    {
     "cell_type": "code",
     "collapsed": false,
     "input": [
      "a = [1, 2, 3]\n",
      "b = a * 3\n",
      "c = [a] * 3\n",
      "print b\n",
      "print c\n",
      "print\n",
      "\n",
      "a[0]=0\n",
      "print b\n",
      "print c"
     ],
     "language": "python",
     "metadata": {},
     "outputs": [
      {
       "output_type": "stream",
       "stream": "stdout",
       "text": [
        "[1, 2, 3, 1, 2, 3, 1, 2, 3]\n",
        "[[1, 2, 3], [1, 2, 3], [1, 2, 3]]\n",
        "\n",
        "[1, 2, 3, 1, 2, 3, 1, 2, 3]\n",
        "[[0, 2, 3], [0, 2, 3], [0, 2, 3]]\n"
       ]
      }
     ],
     "prompt_number": 34
    },
    {
     "cell_type": "heading",
     "level": 3,
     "metadata": {},
     "source": [
      "2)b\uc640 c \uac1d\uccb4\uc758 \ucc28\uc774\ub294 \ubb34\uc5c7\uc778\uac00?"
     ]
    },
    {
     "cell_type": "heading",
     "level": 4,
     "metadata": {},
     "source": [
      "-> b \uac1d\uccb4\ub294 a\uc758 \uac12\ub9cc \ubcf5\uc0ac\ud558\uc600\uace0, c\ub294 a\uc758 \ub808\ud37c\ub7f0\uc2a4\ub97c \ubcf5\uc0ac\ud558\uc600\ub2e4. \ub530\ub77c\uc11c a\uc758 \uc6d0\uc18c\uac12\uc744 \ubcc0\uacbd\ud558\uc600\uc744 \ub54c c\ub3c4 \ud568\uaed8 \ubcc0\uacbd\ub418\uc5c8\ub2e4."
     ]
    },
    {
     "cell_type": "heading",
     "level": 3,
     "metadata": {},
     "source": [
      "4. \ub2e4\uc74c \ubb38\uc790\uc5f4\uc744 ':'\uc744 \uae30\uc900\uc73c\ub85c \ubd84\ub9ac\ud558\uc5ec \ub9ac\uc2a4\ud2b8\ub85c \ub9cc\ub4e4\uace0 \uac01 \ubb38\uc790\uc5f4\uc758 \uc88c\uc6b0 \uacf5\ubc31\uc744 \uc81c\uac70\ud558\uc2dc\uc624.(\uc989, \ubb38\uc790\uc5f4 s\uc5d0\uc11c l\uc744 \ub9cc\ub4e4\uc5b4\ub77c)"
     ]
    },
    {
     "cell_type": "code",
     "collapsed": false,
     "input": [
      "s = '  first star   :   second star   :    third star  '\n",
      "l = ['first star', 'second star', 'third star']"
     ],
     "language": "python",
     "metadata": {},
     "outputs": [],
     "prompt_number": 35
    },
    {
     "cell_type": "heading",
     "level": 4,
     "metadata": {},
     "source": [
      "1)for~in\ubb38\uc744 \uc774\uc6a9\ud55c \ucf54\ub4dc\ub97c \uc791\uc131\ud558\uc2dc\uc624."
     ]
    },
    {
     "cell_type": "code",
     "collapsed": false,
     "input": [
      "s = '  first star   :   second star   :    third star  '\n",
      "l = [] #\uc644\uc131\ub41c \ubb38\uc790\uc5f4\uc744 \uc800\uc7a5\ud560 \ub9ac\uc2a4\ud2b8\n",
      "\n",
      "word = s.split(':')\n",
      "\n",
      "for w in word:\n",
      "    w = w.split()\n",
      "    w = ' '.join(w)\n",
      "    l.append(w)\n",
      "    \n",
      "print l"
     ],
     "language": "python",
     "metadata": {},
     "outputs": [
      {
       "output_type": "stream",
       "stream": "stdout",
       "text": [
        "['first star', 'second star', 'third star']\n"
       ]
      }
     ],
     "prompt_number": 115
    },
    {
     "cell_type": "heading",
     "level": 4,
     "metadata": {},
     "source": [
      "2)\ub9ac\uc2a4\ud2b8 \ub0b4\ud3ec(list comprehension)\ub97c \uc774\uc6a9\ud55c \ucf54\ub4dc\ub97c \uc791\uc131\ud558\uc2dc\uc624."
     ]
    },
    {
     "cell_type": "code",
     "collapsed": false,
     "input": [
      "s = '  first star   :   second star   :    third star  '\n",
      "l = [] #\uc644\uc131\ub41c \ubb38\uc790\uc5f4\uc744 \uc800\uc7a5\ud560 \ub9ac\uc2a4\ud2b8\n",
      "\n",
      "word = s.split(':')\n",
      "\n",
      "l = [w.split() for w in word]\n",
      "l = [' '.join(w) for w in l]\n",
      "\n",
      "print l"
     ],
     "language": "python",
     "metadata": {},
     "outputs": [
      {
       "output_type": "stream",
       "stream": "stdout",
       "text": [
        "['first star', 'second star', 'third star']\n"
       ]
      }
     ],
     "prompt_number": 128
    },
    {
     "cell_type": "heading",
     "level": 3,
     "metadata": {},
     "source": [
      "5. \ub2e4\uc74c\uacfc \uac19\uc774 0\ubcf4\ub2e4 \ud070 \uc815\uc218 \ub9ac\uc2a4\ud2b8 \ubcc0\uc218 list\ub97c \uc778\uc790\ub85c \ubc1b\ub294 \ud568\uc218 addall(list)\uc640 addallodd(list)\ub97c for~in \ub9ac\ud130\ub110\uacfc \ub9ac\uc2a4\ud2b8 \ub0b4\ud3ec \ubc29\uc2dd\uc73c\ub85c \uac01\uac01 \uc81c\uc2dc\ud558\uc2dc\uc624."
     ]
    },
    {
     "cell_type": "heading",
     "level": 4,
     "metadata": {},
     "source": [
      "1)addall(list)\ud568\uc218(\ub9ac\uc2a4\ud2b8 \ub0b4\uc758 \ubaa8\ub4e0 \uc815\uc218\ub97c \ub354\ud558\ub294 \ud568\uc218\ub85c\uc11c \ud574\ub2f5\uc73c\ub85c\ub294 for~in\ub9ac\ud130\ub7f4\uacfc \ub9ac\uc2a4\ud2b8 \ub0b4\ud3ec \ubc29\uc2dd\uc73c\ub85c \uac01\uac01 \uc81c\uc2dc\ud558\uc2dc\uc624.)"
     ]
    },
    {
     "cell_type": "code",
     "collapsed": false,
     "input": [
      "#for~in \ub9ac\ud130\ub7f4 \ubc29\uc2dd\n",
      "def for_in_addall(l):\n",
      "    sum=0 #\ucd1d\ud569\n",
      "    for el in l:\n",
      "        sum += el\n",
      "    return sum\n",
      "\n",
      "#\ub9ac\uc2a4\ud2b8 \ub0b4\ud3ec \ubc29\uc2dd\n",
      "def list_comprehension_addall(l):\n",
      "    elements = [el for el in l]\n",
      "    return for_in_addall(elements)\n",
      "\n",
      "print for_in_addall([1,2,3,4,5])\n",
      "print list_comprehension_addall([1,2,3,4,5])"
     ],
     "language": "python",
     "metadata": {},
     "outputs": [
      {
       "output_type": "stream",
       "stream": "stdout",
       "text": [
        "15\n",
        "15\n"
       ]
      }
     ],
     "prompt_number": 27
    },
    {
     "cell_type": "heading",
     "level": 4,
     "metadata": {},
     "source": [
      "2) addallodd(list) \ud568\uc218 (\ub9ac\uc2a4\ud2b8\ub0b4\uc758 \ubaa8\ub4e0 \ud640\uc218\ub97c \ub354\ud558\ub294 \ud568\uc218\ub85c\uc11c \ud574\ub2f5\uc73c\ub85c\ub294 for ~ in \ub9ac\ud130\ub7f4\uacfc \ub9ac\uc2a4\ud2b8 \ub0b4\ud3ec \ubc29\uc2dd\uc73c\ub85c \uac01\uac01 \uc81c\uc2dc\ud558\uc2dc\uc624.)"
     ]
    },
    {
     "cell_type": "code",
     "collapsed": false,
     "input": [
      "#addall(list) : \ub9ac\uc2a4\ud2b8\ub0b4 \ubaa8\ub4e0 \uc6d0\uc18c\ub97c \ub354\ud55c\ub2e4.\n",
      "def addall(l):\n",
      "    sum=0 #\ucd1d\ud569\n",
      "    for el in l:\n",
      "        sum += el\n",
      "    return sum\n",
      "\n",
      "#for~in \ub9ac\ud130\ub7f4 \ubc29\uc2dd\n",
      "def for_in_addallodd(l):\n",
      "    sum=0 #\ucd1d\ud569\n",
      "    for el in l:\n",
      "        if(el%2 != 0):\n",
      "            sum += el\n",
      "    return sum\n",
      "\n",
      "#\ub9ac\uc2a4\ud2b8 \ub0b4\ud3ec \ubc29\uc2dd\n",
      "def list_comprehension_addallodd(l):\n",
      "    odds = [el for el in l if el%2 != 0]\n",
      "    return addall(odds)\n",
      "\n",
      "print for_in_addallodd([1,2,3,4,5])\n",
      "print list_comprehension_addallodd([1,2,3,4,5])"
     ],
     "language": "python",
     "metadata": {},
     "outputs": [
      {
       "output_type": "stream",
       "stream": "stdout",
       "text": [
        "9\n",
        "9\n"
       ]
      }
     ],
     "prompt_number": 26
    },
    {
     "cell_type": "heading",
     "level": 3,
     "metadata": {},
     "source": [
      "6. \ub2e4\uc74c \ucf54\ub4dc\ub97c \ubcf4\uace0 \ubb3c\uc74c\uc5d0 \ub2f5\ud558\uc2dc\uc624."
     ]
    },
    {
     "cell_type": "code",
     "collapsed": false,
     "input": [
      "L1 = [1, 2, 3]\n",
      "L2 = [4, 5, 6]\n",
      "d = {'low':L1, 'high':L2}\n",
      "e = d\n",
      "f = d.copy()\n",
      "print d\n",
      "print e\n",
      "print f\n",
      "print\n",
      "d['low'] = [10, 20, 30]\n",
      "d['high'][1] = 500\n",
      "print d\n",
      "print e\n",
      "print f"
     ],
     "language": "python",
     "metadata": {},
     "outputs": [
      {
       "output_type": "stream",
       "stream": "stdout",
       "text": [
        "{'high': [4, 5, 6], 'low': [1, 2, 3]}\n",
        "{'high': [4, 5, 6], 'low': [1, 2, 3]}\n",
        "{'high': [4, 5, 6], 'low': [1, 2, 3]}\n",
        "\n",
        "{'high': [4, 500, 6], 'low': [10, 20, 30]}\n",
        "{'high': [4, 500, 6], 'low': [10, 20, 30]}\n",
        "{'high': [4, 500, 6], 'low': [1, 2, 3]}\n"
       ]
      }
     ],
     "prompt_number": 30
    },
    {
     "cell_type": "heading",
     "level": 3,
     "metadata": {},
     "source": [
      "1) \uc704 \ucf54\ub4dc\uc758 \uc218\ud589 \uacb0\uacfc d\uc640 e\ub294 \ud56d\uc0c1 \uac19\uc740 \uacb0\uacfc\ub97c \ucd9c\ub825\ud55c\ub2e4. \uadf8 \uc774\uc720\ub294 \ubb34\uc5c7\uc778\uac00?"
     ]
    },
    {
     "cell_type": "heading",
     "level": 4,
     "metadata": {},
     "source": [
      "e\uac00 d\uc758 \ub808\ud37c\ub7f0\uc2a4\ub97c \ubcf5\uc0ac\ud558\uc600\uae30 \ub54c\ubb38\uc774\ub2e4. \uac19\uc740 \ub808\ud37c\ub7f0\uc2a4\ub97c \uacf5\uc720\ud558\uae30 \ub54c\ubb38\uc5d0 d\uc758 \uac12\uc774 \ubcc0\uacbd\ub418\uba74 e\ub610\ud55c \uc790\ub3d9\uc73c\ub85c \ubcc0\uacbd\ub41c\ub2e4."
     ]
    },
    {
     "cell_type": "heading",
     "level": 3,
     "metadata": {},
     "source": [
      "2) \uc704 \ucf54\ub4dc\uc758 \uc218\ud589 \uacb0\uacfc \ub9c8\uc9c0\ub9c9 f\uc758 \ub0b4\uc6a9\uc740 \ub2e4\uc74c\uacfc \uac19\ub2e4. \uc774 \ub54c 'high' \ud0a4\uc758 \uac12 \ub0b4\uc6a9 \uc911 500\uc774 \ucd9c\ub825\ub41c \uc774\uc720\uc640 'low' \ud0a4\uc758 \uac12 \ub0b4\uc6a9 \uc911 [1, 2, 3]\uc774 \ucd9c\ub825\ub41c \uc774\uc720\ub97c \uc124\uba85\ud558\uc2dc\uc624 ([hint]: shallow copy \uad00\uc810\uc5d0\uc11c \uc124\uba85\ud558\uc2dc\uc624.)"
     ]
    },
    {
     "cell_type": "heading",
     "level": 4,
     "metadata": {},
     "source": [
      "f\ub294 d\ub85c\ubd80\ud130 \uc595\uc740 \ubcf5\uc0ac(shallow copy)\ub97c \ud558\uc600\ub2e4. d\ub294 \uc0ac\uc804\ud615\uc2dd\uc73c\ub85c 'low' key\uc5d0 \ub300\ud574 L1 value\ub97c \uac00\uc9c0\uace0 \uc788\uace0, 'high' key\uc5d0 \ub300\ud574 L2 value\ub97c \uac00\uc9c0\uace0 \uc788\ub2e4. \uc595\uc740 \ubcf5\uc0ac\uc5d0\uc11c\ub294 \uac01 value\uc778 L1, L2\uc758 \ub808\ud37c\ub7f0\uc2a4\ub9cc \ubcf5\uc0ac\ud558\uac8c \ub41c\ub2e4. \ub530\ub77c\uc11c key 'high'\uc758 value L2\ub97c \uc218\uc815\ud55c \uac12\uc740 f\uc5d0\ub3c4 \uc601\ud56d\uc744 \ubbf8\uce58\ub294 \ubc18\uba74, key 'low'\uc758 value\ub97c \ub2e8\uc21c\ud788 \ub2e4\ub978 \uac12\uc73c\ub85c \uc218\uc815\ud55c \uac12\uc740(\uc989, L1\uc744 \uc218\uc815\ud558\uc9c0 \uc54a\uc558\uae30 \ub54c\ubb38\uc5d0) f\uc5d0 \uc601\ud5a5\uc744 \ubbf8\uce58\uc9c0 \uc54a\ub294\ub2e4."
     ]
    },
    {
     "cell_type": "heading",
     "level": 3,
     "metadata": {},
     "source": [
      "7. \uc0ac\uc804 d = {'one':1, 'two':2, 'three':3, 'four':4, 'five':5}\uac00 \uc8fc\uc5b4\uc84c\uc744 \ub54c \ub2e4\uc74c \uc694\uad6c\uc0ac\ud56d\uc5d0 \ub9de\ub294 \ucf54\ub4dc\ub97c \uc81c\uc2dc\ud558\uc2dc\uc624 "
     ]
    },
    {
     "cell_type": "code",
     "collapsed": false,
     "input": [
      "def mycmp(a1, a2):\n",
      "    return cmp(a1, a2)\n",
      "\n",
      "d={'one':1, 'two':2, 'three':3, 'four':4, 'five':5}\n",
      "\n",
      "#1)\ud0a4\uc758 \uc54c\ud30c\ubcb3 \uc624\ub984\ucc28\uc21c \uc21c\uc11c\ub300\ub85c \ud29c\ud50c(\ud0a4,\uac12)\uc744 \ucc28\ub840\ub300\ub85c \ucd9c\ub825\ud558\uc2dc\uc624.\n",
      "d1 = [(key, value) for key, value in sorted(d.items(), key=lambda item:item[0])]\n",
      "print d1\n",
      "#2)\ud0a4\uc758 \uc54c\ud30c\ubcb3 \ub0b4\ub9bc\ucc28\uc21c \uc21c\uc11c\ub300\ub85c \ud29c\ud50c(\ud0a4,\uac12)\uc744 \ucc28\ub840\ub300\ub85c \ucd9c\ub825\ud558\uc2dc\uc624.\n",
      "d2 = [(key, value) for key, value in reversed(d1)] #d1\uc758 \uc5ed\uc21c\n",
      "print d2\n",
      "#3)\uac12\uc758 \uc624\ub984\ucc28\uc21c \uc21c\uc11c\ub300\ub85c \ud29c\ud50c(\ud0a4,\uac12)\uc744 \ucc28\ub840\ub300\ub85c \ucd9c\ub825\ud558\uc2dc\uc624.\n",
      "d3 = [(key, value) for key, value in sorted(d.items(), key=lambda item:item[1])]\n",
      "print d3\n",
      "#4)\uac12\uc758 \ub0b4\ub9bc\ucc28\uc21c \uc21c\uc11c\ub300\ub85c \ud29c\ud50c(\ud0a4,\uac12)\uc744 \ucc28\ub840\ub300\ub85c \ucd9c\ub825\ud558\uc2dc\uc624.\n",
      "d4 = [(key, value) for key, value in reversed(d3)] #d3\uc758 \uc5ed\uc21c\n",
      "print d4"
     ],
     "language": "python",
     "metadata": {},
     "outputs": [
      {
       "output_type": "stream",
       "stream": "stdout",
       "text": [
        "[('five', 5), ('four', 4), ('one', 1), ('three', 3), ('two', 2)]\n",
        "[('two', 2), ('three', 3), ('one', 1), ('four', 4), ('five', 5)]\n",
        "[('one', 1), ('two', 2), ('three', 3), ('four', 4), ('five', 5)]\n",
        "[('five', 5), ('four', 4), ('three', 3), ('two', 2), ('one', 1)]\n"
       ]
      }
     ],
     "prompt_number": 53
    },
    {
     "cell_type": "heading",
     "level": 3,
     "metadata": {},
     "source": [
      "8. \uc774\uc804 Assignment 2\uc758 \ub9c8\uc9c0\ub9c9 \ubb38\uc81c\ub294 \uc6f9 URL\ub85c \uc9c0\uc815\ub41c \uc6f9\ud398\uc774\uc9c0\ub97c \ubb38\uc790\uc5f4\ub85c \uac00\uc838\uc640 \ubaa8\ub4e0 HTML \ud0dc\uadf8 \ubc0f CSS\uc640 Javascript\ub97c \uc81c\uc678\ud55c \uc21c\uc218 \ud14d\uc2a4\ud2b8\ub97c \uc5bb\uc5b4\ub0b4\uace0 \uadf8 \uc548\uc5d0 \uc874\uc7ac\ud558\ub294 \ub2e8\uc5b4\ub97c \ucd94\ucd9c\ud558\ub294 \ud504\ub85c\uadf8\ub7a8\uc744 \uc791\uc131\ud558\ub294 \uac83\uc774\uc5c8\ub2e4. \uc774\ubc88\uc5d0\ub294 \uadf8 \ub9c8\uc9c0\ub9c9 \uc219\uc81c\ub97c \uadf8\ub300\ub85c \ud655\uc7a5\ud558\uc5ec \uc6f9 URL\ub85c \uc9c0\uc815\ub41c \uc6f9\ud398\uc774\uc9c0 \ub0b4 \uc21c\uc218 \ud14d\uc2a4\ud2b8 \uc548\uc5d0 \uc874\uc7ac\ud558\ub294 \uac01 \ub2e8\uc5b4\ub4e4\uc5d0 \ub300\ud574 \ub2e4\uc74c \uc694\uad6c\uc0ac\ud56d \ub300\ub85c \ucd9c\ub825\ud558\ub294 \ud504\ub85c\uadf8\ub7a8\uc744 \uc791\uc131\ud558\uc2dc\uc624. "
     ]
    },
    {
     "cell_type": "code",
     "collapsed": false,
     "input": [
      "#\uad50\uc218\ub2d8\uaed8\uc11c Assignment02\uc5d0 \uc62c\ub824\uc8fc\uc2e0 \ucf54\ub4dc\ub97c \ud65c\uc6a9\ud558\uc600\uc2b5\ub2c8\ub2e4.\n",
      "\n",
      "import urllib\n",
      "import re #\ud2b9\uc218\ubb38\uc790 \uc81c\uac70\ub97c \uc704\ud568\n",
      "\n",
      "source = urllib.urlopen(\"http://nbviewer.ipython.org/\").read()\n",
      "len_source = len(source)\n",
      "\n",
      "dic={} #\uac01 \ub2e8\uc5b4\ub4e4\uc758 \ucd9c\ud604\ube48\ub3c4\ub97c \uc0ac\uc804\ud615\ud0dc\ub85c \uc800\uc7a5\n",
      "\n",
      "source_new = None\n",
      "i = 0\n",
      "while (i < len_source):\n",
      "\tfound = False\n",
      "\tif (found != True and source[i] == \"<\" and source[i+1 : i+7].lower() == \"script\"):\n",
      "\t\tfound = True;\n",
      "\t\tj = i + 7;\n",
      "\t\twhile (True):\n",
      "\t\t\tif (source[j] == \"<\" and source[j+1] == \"/\" and source[j+2 : j+8].lower() == \"script\"):\n",
      "\t\t\t\t#print \"found - script\"\n",
      "\t\t\t\tsource = source[:i] + ' ' + source[j+9:]\n",
      "\t\t\t\tbreak\n",
      "\t\t\tj = j + 1\n",
      "\t\t\tif (j > len_source):\n",
      "\t\t\t\tbreak\n",
      "\t\tlen_source = len(source)\n",
      "\ti = i + 1\n",
      "\n",
      "len_source = len(source)\n",
      "\n",
      "i = 0\n",
      "while (i < len_source):\n",
      "\tfound = False\n",
      "\tif (found != True and source[i] == \"<\" and source[i+1 : i+6].lower() == \"style\"):\n",
      "\t\tfound = True;\n",
      "\t\tj = i + 6;\n",
      "\t\twhile (True):\n",
      "\t\t\tif (source[j] == \"<\" and source[j+1] == \"/\" and source[j+2 : j+7].lower() == \"style\"):\n",
      "\t\t\t\t#print \"found - style\"\n",
      "\t\t\t\tsource = source[:i] + ' ' + source[j+8:]\n",
      "\t\t\t\tbreak\n",
      "\t\t\tj = j + 1\n",
      "\t\t\tif (j > len_source):\n",
      "\t\t\t\tbreak\n",
      "\t\tlen_source = len(source)\n",
      "\ti = i + 1\n",
      "\n",
      "len_source = len(source)\n",
      "\n",
      "i = 0\n",
      "while (i < len_source):\n",
      "\tfound = False\n",
      "\tif (found != True and source[i] == \"<\"):\n",
      "\t\tfound = True;\n",
      "\t\tj = i + 1;\n",
      "\t\twhile (True):\n",
      "\t\t\tif (source[j] == \">\"):\n",
      "\t\t\t\t#print \"found - HTML tag\"\n",
      "\t\t\t\tsource = source[:i] + ' ' + source[j+1:]\n",
      "\t\t\t\tbreak\n",
      "\t\t\tj = j + 1\n",
      "\t\t\tif (j > len_source):\n",
      "\t\t\t\tbreak\n",
      "\t\tlen_source = len(source)\n",
      "\ti = i + 1\n",
      "\n",
      "words = source.split()\n",
      "\n",
      "print '<\uc21c\uc218 \ud14d\uc2a4\ud2b8 \ub2e8\uc5b4\ub4e4>'\n",
      "for word in words:\n",
      "    word=re.sub('[^\uac00-\ud79d0-9a-zA-Z\\\\s]', '', word) #\ud2b9\uc218\ubb38\uc790 \uc81c\uac70\n",
      "    if word!='':\n",
      "        if(dic.get(word) == None):\n",
      "            dic[word] = 1\n",
      "        else:\n",
      "            dic[word] += 1\n",
      "        print '\"' + word + '\" ',\n",
      "        \n",
      "print '\\n'*5\n",
      "\n",
      "print '<\uac01 \ub2e8\uc5b4\ubcc4 \ucd9c\ud604\ube48\ub3c4>'\n",
      "print dic"
     ],
     "language": "python",
     "metadata": {},
     "outputs": [
      {
       "output_type": "stream",
       "stream": "stdout",
       "text": [
        "<\uc21c\uc218 \ud14d\uc2a4\ud2b8 \ub2e8\uc5b4\ub4e4>\n",
        "\"nbviewer\"  \"FAQ\"  \"IPython\"  \"nbviewer\"  \"A\"  \"simple\"  \"way\"  \"to\"  \"share\"  \"IPython\"  \"Notebooks\"  \"Go\"  \"Programming\"  \"Languages\"  \"IPython\"  \"IRuby\"  \"IJulia\"  \"Books\"  \"Python\"  \"for\"  \"Signal\"  \"Processing\"  \"OReilly\"  \"Book\"  \"Probabilistic\"  \"Programming\"  \"Misc\"  \"Interactive\"  \"plots\"  \"with\"  \"Plotly\"  \"XKCD\"  \"Plot\"  \"With\"  \"Matplotlib\"  \"Interactive\"  \"data\"  \"visualization\"  \"with\"  \"Bokeh\"  \"Non\"  \"Parametric\"  \"Regression\"  \"Nose\"  \"testing\"  \"Working\"  \"with\"  \"pandas\"  \"Fitting\"  \"Analysis\"  \"of\"  \"current\"  \"events\"  \"JaynesCummings\"  \"model\"  \"SymPy\"  \"notebook\"  \"Numpy\"  \"tests\"  \"Python\"  \"for\"  \"Vision\"  \"Research\"  \"Back\"  \"to\"  \"top\"  \"This\"  \"web\"  \"site\"  \"does\"  \"not\"  \"host\"  \"notebooks\"  \"it\"  \"only\"  \"renders\"  \"notebooks\"  \"available\"  \"on\"  \"other\"  \"websites\"  \"Thanks\"  \"to\"  \"Rackspace\"  \"for\"  \"hosting\"  \"nbviewer\"  \"GitHub\"  \"repository\"  \"nbviewer\"  \"license\"  \"nbviewer\"  \"version\"  \"2da9e6a\"  \n",
        "\n",
        "\n",
        "\n",
        "\n",
        "\n",
        "<\uac01 \ub2e8\uc5b4\ubcc4 \ucd9c\ud604\ube48\ub3c4>\n",
        "{'Plot': 1, 'Processing': 1, 'IRuby': 1, 'version': 1, 'Working': 1, 'simple': 1, 'Notebooks': 1, 'share': 1, 'site': 1, 'Research': 1, 'Languages': 1, 'Bokeh': 1, 'Book': 1, 'websites': 1, 'IPython': 3, 'events': 1, 'Numpy': 1, 'XKCD': 1, 'visualization': 1, 'Non': 1, 'GitHub': 1, 'Rackspace': 1, 'for': 3, 'Python': 2, 'data': 1, 'top': 1, 'FAQ': 1, 'available': 1, 'Matplotlib': 1, 'current': 1, 'to': 3, 'only': 1, 'does': 1, 'Vision': 1, 'way': 1, 'Probabilistic': 1, 'OReilly': 1, 'Thanks': 1, 'A': 1, 'tests': 1, 'testing': 1, 'repository': 1, 'web': 1, 'This': 1, '2da9e6a': 1, 'Signal': 1, 'Programming': 2, 'nbviewer': 5, 'it': 1, 'Parametric': 1, 'host': 1, 'notebook': 1, 'Nose': 1, 'Plotly': 1, 'SymPy': 1, 'not': 1, 'plots': 1, 'on': 1, 'with': 3, 'IJulia': 1, 'Interactive': 2, 'notebooks': 2, 'hosting': 1, 'license': 1, 'With': 1, 'Misc': 1, 'Fitting': 1, 'Back': 1, 'pandas': 1, 'Books': 1, 'renders': 1, 'Analysis': 1, 'of': 1, 'Go': 1, 'JaynesCummings': 1, 'model': 1, 'other': 1, 'Regression': 1}\n"
       ]
      }
     ],
     "prompt_number": 146
    },
    {
     "cell_type": "heading",
     "level": 4,
     "metadata": {},
     "source": [
      "\uc18c\uac10 : python \ud559\uc2b5\uc5d0 \ub3c4\uc6c0\uc774 \ub9ce\uc774 \ub41c \uacfc\uc81c\uc600\uc2b5\ub2c8\ub2e4. \ud56d\uc0c1 \uc7ac\ubc0c\uace0 \ub3c5\ud2b9\ud55c \uacfc\uc81c \ub0b4\uc8fc\uc2dc\ub294 \uad50\uc218\ub2d8\uaed8 \uac10\uc0ac\ud569\ub2c8\ub2e4."
     ]
    }
   ],
   "metadata": {}
  }
 ]
}