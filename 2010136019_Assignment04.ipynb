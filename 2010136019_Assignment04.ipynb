{
 "metadata": {
  "name": "",
  "signature": "sha256:183ae13bf0a00cadba30dd646b3e4b6aff58262d9d37713f21fe246f4bc7c03b"
 },
 "nbformat": 3,
 "nbformat_minor": 0,
 "worksheets": [
  {
   "cells": [
    {
     "cell_type": "markdown",
     "metadata": {},
     "source": [
      "|\uacfc\ubaa9\uba85|\uc2a4\ud06c\ub9bd\ud2b8\ud504\ub85c\uadf8\ub798\ubc0d|\n",
      "|-|-|\n",
      "|\uacfc\uc81c\uba85|Assignment04|\n",
      "|\ud559\ubd80|\ucef4\ud4e8\ud130\uacf5\ud559\ubd80|\n",
      "|\ud559\ubc88|2010136019|\n",
      "|\uc774\ub984|\uae40\ub3d9\ud604|\n",
      "|\uc81c\ucd9c\uc77c\uc790|14.11.21|"
     ]
    },
    {
     "cell_type": "heading",
     "level": 3,
     "metadata": {},
     "source": [
      "1. \ud30c\uc77c s.txt \ub0b4\uc758 \ub2e4\uc74c \ub0b4\uc6a9\uacfc \ud568\uaed8 \uc544\ub798 \ubb38\uc81c\uc758 \ucf54\ub4dc\ub97c \uc81c\uc2dc\ud558\uc2dc\uc624. "
     ]
    },
    {
     "cell_type": "code",
     "collapsed": false,
     "input": [
      "a=\"\"\"pig ham\n",
      "cat dog\n",
      "ham bird\n",
      "dog pig\"\"\"\n",
      "\n",
      "f = open('s.txt', 'w')\n",
      "f.write(a)\n",
      "f.close()"
     ],
     "language": "python",
     "metadata": {},
     "outputs": [],
     "prompt_number": 45
    },
    {
     "cell_type": "markdown",
     "metadata": {},
     "source": [
      "1) \ud30c\uc77c s.txt\uc744 \uc77d\uc5b4\uc11c \uac01 \ub77c\uc778\ub4e4\uc5d0 \uc788\ub294 \uccab \ubc88\uc9f8 \ub2e8\uc5b4(\ubb38\uc790\uc5f4)\ub4e4\uc744 \uae30\uc900\uc73c\ub85c \ub77c\uc778\ubcc4 \uc815\ub82c\ud6c4 \ud30c\uc77c s1.txt\uc5d0 \uadf8 \uacb0\uacfc\ub97c \uae30\ub85d\ud558\ub294 \ucf54\ub4dc\ub97c \uc791\uc131\ud558\uc2dc\uc624."
     ]
    },
    {
     "cell_type": "code",
     "collapsed": false,
     "input": [
      "aa=[] #\ub77c\uc778\ubcc4\ub85c \ubb38\uc790\uc5f4\uc744 \ucabc\uac1c\uace0 \uadf8\uac83\uc744 \uc800\uc7a5\ud558\ub294 \ub9ac\uc2a4\ud2b8 \ubcc0\uc218\n",
      "f = open('s.txt', 'r')\n",
      "for line in f.readlines(): #line\uc218\ub9cc\ud07c \uc2e4\ud589\n",
      "    temp = line.split() #\ub77c\uc778\uc758 \ubb38\uc790\uc5f4\uc744 \ucabc\uac20\ub2e4.\n",
      "    aa.append(temp) #\ucabc\uac1c\uc9c4 \ubb38\uc790\uc5f4 \ub9ac\uc2a4\ud2b8\ub4e4\uc744 \ub9ac\uc2a4\ud2b8\uc5d0 \uc800\uc7a5\n",
      "aa.sort(key=lambda item:item[0]) #\uac01 \ub77c\uc778\uc758 \uccab \ubc88\uc9f8 \ub2e8\uc5b4\ub97c \n",
      "f.close()                        #\uae30\uc900\uc73c\ub85c \uc815\ub82c\n",
      "\n",
      "f= open('s1.txt', 'w') #s1\uc5d0 \uc785\ub825\n",
      "for ele in aa:\n",
      "    temp = ' '.join(ele)+'\\n' #\ucabc\uac1c\uc9c4 \ubb38\uc790\uc5f4\uc744 \ub2e4\uc2dc \ud569\uccd0\uc11c \ub77c\uc778\uc744 \ub9cc\ub4ec\n",
      "    f.write(temp) #\ud569\uccd0\uc9c4 \uac01 \ub77c\uc778\ub4e4\uc744 \uc785\ub825\ud55c\ub2e4.\n",
      "f.close()\n",
      "\n",
      "f = open('s1.txt', 'r') #s1 \uc77d\uae30\n",
      "contents = f.read()\n",
      "print contents\n",
      "f.close()"
     ],
     "language": "python",
     "metadata": {},
     "outputs": [
      {
       "output_type": "stream",
       "stream": "stdout",
       "text": [
        "cat dog\n",
        "dog pig\n",
        "ham bird\n",
        "pig ham\n",
        "\n"
       ]
      }
     ],
     "prompt_number": 46
    },
    {
     "cell_type": "markdown",
     "metadata": {},
     "source": [
      "2) \ud30c\uc77c s.txt\uc744 \uc77d\uc5b4\uc11c \uac01 \ub77c\uc778\ub4e4\uc5d0 \uc788\ub294 \ub450 \ubc88\uc9f8 \ub2e8\uc5b4(\ubb38\uc790\uc5f4)\ub4e4\uc744 \uae30\uc900\uc73c\ub85c \ub77c\uc778\ubcc4 \uc815\ub82c\ud6c4 \ud30c\uc77c s2.txt\uc5d0 \uadf8 \uacb0\uacfc\ub97c \uae30\ub85d\ud558\ub294 \ucf54\ub4dc\ub97c \uc791\uc131\ud558\uc2dc\uc624."
     ]
    },
    {
     "cell_type": "code",
     "collapsed": false,
     "input": [
      "aa=[] #\ub77c\uc778\ubcc4\ub85c \ubb38\uc790\uc5f4\uc744 \ucabc\uac1c\uace0 \uadf8\uac83\uc744 \uc800\uc7a5\ud558\ub294 \ub9ac\uc2a4\ud2b8 \ubcc0\uc218\n",
      "f = open('s.txt', 'r')\n",
      "for line in f.readlines(): #line\uc218\ub9cc\ud07c \uc2e4\ud589\n",
      "    temp = line.split() #\ub77c\uc778\uc758 \ubb38\uc790\uc5f4\uc744 \ucabc\uac20\ub2e4.\n",
      "    aa.append(temp) #\ucabc\uac1c\uc9c4 \ubb38\uc790\uc5f4 \ub9ac\uc2a4\ud2b8\ub4e4\uc744 \ub9ac\uc2a4\ud2b8\uc5d0 \uc800\uc7a5\n",
      "aa.sort(key=lambda item:item[1]) #\uac01 \ub77c\uc778\uc758 \ub450 \ubc88\uc9f8 \ub2e8\uc5b4\ub97c \n",
      "f.close()                        #\uae30\uc900\uc73c\ub85c \uc815\ub82c\n",
      "\n",
      "f= open('s2.txt', 'w') #s1\uc5d0 \uc785\ub825\n",
      "for ele in aa:\n",
      "    temp = ' '.join(ele)+'\\n' #\ucabc\uac1c\uc9c4 \ubb38\uc790\uc5f4\uc744 \ub2e4\uc2dc \ud569\uccd0\uc11c \ub77c\uc778\uc744 \ub9cc\ub4ec\n",
      "    f.write(temp) #\ud569\uccd0\uc9c4 \uac01 \ub77c\uc778\ub4e4\uc744 \uc785\ub825\ud55c\ub2e4.\n",
      "f.close()\n",
      "\n",
      "f = open('s2.txt', 'r') #s1 \uc77d\uae30\n",
      "contents = f.read()\n",
      "print contents\n",
      "f.close()"
     ],
     "language": "python",
     "metadata": {},
     "outputs": [
      {
       "output_type": "stream",
       "stream": "stdout",
       "text": [
        "ham bird\n",
        "cat dog\n",
        "pig ham\n",
        "dog pig\n",
        "\n"
       ]
      }
     ],
     "prompt_number": 47
    },
    {
     "cell_type": "markdown",
     "metadata": {},
     "source": [
      "3) \ud30c\uc77c s.txt\uc744 \uc77d\uc5b4\uc11c \uac01 \ub77c\uc778\ub4e4\uc5d0 \uc788\ub294 \ubaa8\ub4e0 \ub2e8\uc5b4\ub4e4\uc744 \uc21c\ucc28\uc801\uc73c\ub85c \ub2e4\uc2dc \ub098\uc5f4\ud558\ub418 \uac01 \ub77c\uc778\uc5d0 \uc138 \uac1c\uc758 \ub2e8\uc5b4\ub4e4\uc774 \uc624\ub3c4\ub85d \ud558\uc5ec s3.txt\uc5d0 \uae30\ub85d\ud558\ub294 \ucf54\ub4dc\ub97c \uc791\uc131\ud558\uc2dc\uc624."
     ]
    },
    {
     "cell_type": "code",
     "collapsed": false,
     "input": [
      "aa=[] #\ub77c\uc778\ubcc4\ub85c \ubb38\uc790\uc5f4\uc744 \ucabc\uac1c\uace0 \uadf8\uac83\uc744 \uc800\uc7a5\ud558\ub294 \ub9ac\uc2a4\ud2b8 \ubcc0\uc218\n",
      "f = open('s.txt', 'r')\n",
      "for line in f.readlines(): #line\uc218\ub9cc\ud07c \uc2e4\ud589\n",
      "    temp = line.split() #\ub77c\uc778\uc758 \ubb38\uc790\uc5f4\uc744 \ucabc\uac20\ub2e4.\n",
      "    aa.append(temp) #\ucabc\uac1c\uc9c4 \ubb38\uc790\uc5f4 \ub9ac\uc2a4\ud2b8\ub4e4\uc744 \ub9ac\uc2a4\ud2b8\uc5d0 \uc800\uc7a5\n",
      "f.close()                       \n",
      "\n",
      "f= open('s2.txt', 'w') #s1\uc5d0 \uc785\ub825\n",
      "for ele in aa:\n",
      "    temp = ' '.join(ele)+'\\n' #\ucabc\uac1c\uc9c4 \ubb38\uc790\uc5f4\uc744 \ub2e4\uc2dc \ud569\uccd0\uc11c \ub77c\uc778\uc744 \ub9cc\ub4ec\n",
      "    f.write(temp) #\ud569\uccd0\uc9c4 \uac01 \ub77c\uc778\ub4e4\uc744 \uc785\ub825\ud55c\ub2e4.\n",
      "f.close()\n",
      "\n",
      "f = open('s2.txt', 'r') #s2 \uc77d\uae30\n",
      "contents = f.read()\n",
      "print contents\n",
      "f.close()"
     ],
     "language": "python",
     "metadata": {},
     "outputs": [
      {
       "output_type": "stream",
       "stream": "stdout",
       "text": [
        "pig ham\n",
        "cat dog\n",
        "ham bird\n",
        "dog pig\n",
        "\n"
       ]
      }
     ],
     "prompt_number": 48
    },
    {
     "cell_type": "code",
     "collapsed": false,
     "input": [
      "aa=[] #\ub77c\uc778\ubcc4\ub85c \ubb38\uc790\uc5f4\uc744 \ucabc\uac1c\uace0 \uadf8\uac83\uc744 \uc800\uc7a5\ud558\ub294 \ub9ac\uc2a4\ud2b8 \ubcc0\uc218\n",
      "f = open('s.txt', 'r')\n",
      "for line in f.readlines(): #line\uc218\ub9cc\ud07c \uc2e4\ud589\n",
      "    temp = line.split() #\ub77c\uc778\uc758 \ubb38\uc790\uc5f4\uc744 \ucabc\uac20\ub2e4.\n",
      "    for ele in temp: #\ucabc\uac1c\uc9c4 \ubb38\uc790\uc5f4\ub4e4\uc744 aa\uc5d0 \uc0bd\uc785\n",
      "        aa.append(ele)\n",
      "f.close()\n",
      "\n",
      "f = open('s3.txt', 'w')\n",
      "i=0 #\ubb38\uc790\uc5f4\uc758 \uc21c\uc11c(\uac01 \ub77c\uc778\ubcc4\ub85c 3\uac1c\uc528\uc758 \ubb38\uc790\uc5f4\uc744 \ubc30\uce58\ud558\uae30 \uc704\ud568)\n",
      "for ele in aa:\n",
      "    if i%3==0 and i!=0: #\uac01 \ub77c\uc778\uc5d0 3\uac1c\uc758 \ubb38\uc790\uc5f4\uc744 \uc9d1\uc5b4\ub123\ub294\ub2e4.\n",
      "        f.write('\\n'+ele+' ')\n",
      "    else:\n",
      "        f.write(ele+' ')\n",
      "    i += 1\n",
      "f.close()\n",
      "\n",
      "f = open('s3.txt', 'r') #s3 \uc77d\uae30\n",
      "contents = f.read()\n",
      "print contents\n",
      "f.close()"
     ],
     "language": "python",
     "metadata": {},
     "outputs": [
      {
       "output_type": "stream",
       "stream": "stdout",
       "text": [
        "pig ham cat \n",
        "dog ham bird \n",
        "dog pig \n"
       ]
      }
     ],
     "prompt_number": 45
    },
    {
     "cell_type": "heading",
     "level": 3,
     "metadata": {},
     "source": [
      "2. \ub2e4\uc74c\uacfc \uac19\uc740 \uc870\uac74\ub4e4\uc744 \ucc38\uace0\ud558\uc5ec \ud68c\uc6d0 \uac00\uc785 \ubc0f \ub85c\uadf8\uc778 \ud504\ub85c\uadf8\ub7a8\uc744 \uc791\uc131\ud558\uc2dc\uc624. "
     ]
    },
    {
     "cell_type": "code",
     "collapsed": false,
     "input": [
      "import os #\ud30c\uc77c\uc758 \uc874\uc7ac \uc720\ubb34\ub97c \ud655\uc778\ud558\uae30 \uc704\ud568\n",
      "import sha #password \uc554\ud638\ud654\ub97c \uc704\ud568\n",
      "#1)\ud504\ub85c\uadf8\ub7a8 \uc2dc\uc791 \ud6c4 \ub2e4\uc74c\uacfc \uac19\uc740 \uba54\uc2dc\uc9c0\uac00 \n",
      "#\ucd9c\ub825\ub418\uc5b4 1, 2, 3 \uc911 \ud558\ub098\uc758 \uac12\uc744 \uc785\ub825 \ubc1b\ub3c4\ub85d \ud55c\ub2e4.\n",
      "s = '''Welcome to Our Service\n",
      " 1. Sign Up\n",
      " 2. Sign In\n",
      " 3. Quit\n",
      "'''\n",
      "while 1: #\ubb34\ud55c\ub8e8\ud504\ud654 \ud55c\ub2e4.\n",
      "    menu = input(s)\n",
      "    ID=[] #ID\ub97c \uc800\uc7a5\ud558\ub294 \ub9ac\uc2a4\ud2b8\n",
      "    pw=[] #Password\ub97c \uc800\uc7a5\ud558\ub294 \ub9ac\uc2a4\ud2b8\n",
      "    name=[] #Name\uc744 \uc800\uc7a5\ud558\ub294 \ub9ac\uc2a4\ud2b8\n",
      "    school=[] #School\uc744 \uc800\uc7a5\ud558\ub294 \ub9ac\uc2a4\ud2b8\n",
      "    #'access.txt'\ub85c\ubd80\ud130 ID, password, name, school\uc5d0 \uad00\ud55c \uc815\ubcf4\ub97c \ucd94\ucd9c\ud55c\ub2e4.\n",
      "    #\uc774\ubd80\ubd84\uc740 \uc8fc\ub85c 2.Sign In\uc5d0\uc11c \ub2e4\ub8e8\uc9c0\ub9cc 1.Sign Up\uc5d0\uc11c\ub3c4 ID\uc5d0 \uad00\ud55c \uc911\ubcf5\uc5ec\ubd80\ub97c \ud655\uc778\ud560\n",
      "    #\ud544\uc694\uac00 \uc788\uace0, \ub610 \uc774 \ud504\ub85c\uadf8\ub7a8\uc758 \uc0ac\uc6a9\uc790\uac00 1\ubc88\ub9cc \uc4f0\uace0 2\ubc88\uc740 \uc548\uc4f8 \uacbd\uc6b0\uac00 \ub4dc\ubb3c\uae30 \ub54c\ubb38\uc5d0\n",
      "    #\uc774\ub807\uac8c \uc55e\ucabd\uc5d0 \ubbf8\ub9ac \ucf54\ub529\ud558\uc600\ub2e4.\n",
      "    if (os.path.isfile('access.txt')): #'access.txt'\uac00 \uc788\ub294 \uacbd\uc6b0 / \uc5c6\ub2e4\uba74 1.Sign In\uc5d0\uc11c \uc0c8\ub85c \ub9cc\ub4e4\uba74 \ub41c\ub2e4.\n",
      "        f = open('access.txt', 'r')\n",
      "        for line in f.readlines():\n",
      "            temp=[] #\ub77c\uc778\uc758 \uac01 \uc815\ubcf4\ub97c \uc784\uc2dc\uc800\uc7a5\ud558\ub294 \ubcc0\uc218\n",
      "            for ele in line.split(): #\ub77c\uc778 \ub0b4\ubd80\uc758 \ubb38\uc790\uc5f4\uc744 \uacf5\ubc31\ubb38\uc790 \ub2e8\uc704\ub85c \ucabc\uac2c\n",
      "                temp.append(ele.strip(':,')) #\ucabc\uac1c\uc9c4 \ubb38\uc790\uc5f4\uc5d0\uc11c \"':', ','\" \ubb38\uc790 \uc81c\uac70\n",
      "                #\uac01 \ubb38\uc790\uc5f4\uc740 id-pw-name-school \uc21c\uc73c\ub85c \ubc30\uce58\ub418\uc5c8\uc73c\ubbc0\ub85c \uc21c\uc11c\ub300\ub85c \ub9ac\uc2a4\ud2b8\uc5d0 \uc800\uc7a5\n",
      "            ID.append(temp[0])\n",
      "            pw.append(temp[1])\n",
      "            name.append(temp[2])\n",
      "            school.append(temp[3])\n",
      "        f.close()       \n",
      "    #2)1\uc744 \uc120\ud0dd\ud558\uba74 ID, Password, Name, School\uc758 4\uac00\uc9c0 \uc815\ubcf4\ub97c\n",
      "    #\uc785\ub825\ubc1b\uc544 \ud30c\uc77c\uc5d0 \uc800\uc7a5\ud558\ub294 \ud504\ub85c\uadf8\ub7a8\uc744 \uc791\uc131\ud55c\ub2e4.\n",
      "    if menu==1:\n",
      "        #2-5) \ud68c\uc6d0 \uc815\ubcf4\ub97c \uc785\ub825 \ubc1b\uc744 \ub54c id\ub97c \uc785\ub825 \ubc1b\uc740 \uc9c1\ud6c4 access\ub97c \ud655\uc778\ud558\uc5ec \n",
      "        #\uc774\ubbf8 \uc874\uc7ac\ud558\ub294 id\uac00 \uc785\ub825\ub418\uc5c8\ub2e4\uba74 \ub2e4\uc74c \uba54\uc2dc\uc9c0\ub97c \ucd9c\ub825\ud558\uace0 id \uc815\ubcf4\ub97c\n",
      "        #\ub2e4\uc2dc \uc785\ub825\ubc1b\ub294\ub2e4.\n",
      "        while 1:\n",
      "            input_id = raw_input('id: ')\n",
      "            if input_id in ID:\n",
      "                print 'Sorry, the entered ID is already used.'\n",
      "            else:\n",
      "                ID.append(input_id)\n",
      "                break\n",
      "        #2-4)sha\ubaa8\ub4c8\uc744 \ud65c\uc6a9\ud558\uc5ec password \ub97c \uc554\ud638\ud654\ud55c\ub2e4.\n",
      "        input_pw=sha.new(raw_input('Password: ')).hexdigest()\n",
      "        input_name = raw_input('name: ')\n",
      "        input_school = raw_input('school: ')\n",
      "        #2-1)\uc785\ub825\ub41c \ub0b4\uc6a9\uc740 access \ub77c\ub294 \uc774\ub984\uc758 \ud30c\uc77c \ub0b4\uc5d0 \uc800\uc7a5\ub41c\ub2e4.\n",
      "        f = open('access.txt', 'a')\n",
      "        #2-2)access \ud30c\uc77c\uc758 \uac01 \ub77c\uc778\uc5d0\ub294 \uac00\uc785\ub41c \ud68c\uc6d0 \uac01\uac01\uc758 \uc815\ubcf4\uac00\n",
      "        #\"id: Password, name, school\" \ud615\ud0dc\ub85c \uc800\uc7a5\ub41c\ub2e4.\n",
      "        f.write(input_id+': '+input_pw+', '+input_name+', '+input_school+'\\n')\n",
      "        f.close()\n",
      "    #3)2\ub97c \uc120\ud0dd\ud558\uba74 ID, Password\uc758 2\uac00\uc9c0 \uc815\ubcf4\ub97c \uc785\ub825\ubc1b\ub294 \ud504\ub85c\uadf8\ub7a8\uc744 \uc791\uc131\ud55c\ub2e4.\n",
      "    elif menu==2:        \n",
      "        line_index=0 #\ud604\uc7ac \uc785\ub825\ub41c ID\uc640 Password\uc758 \ub77c\uc778 \ubc88\ud638\n",
      "        #3-1) \uc785\ub825\ub41c ID \uc815\ubcf4\uac00 access\uc5d0 \uc874\uc7ac\ud558\uc9c0 \uc54a\uc73c\uba74 \ub2e4\uc74c\uacfc \uac19\uc740 \uba54\uc2dc\uc9c0\ub97c \ucd9c\ub825\ud558\uace0 \n",
      "        #\ub2e4\uc2dc \uc785\ub825\ubc1b\ub294\ub2e4.\n",
      "        while 1:\n",
      "            input_id = raw_input('id: ')\n",
      "            if input_id not in ID:\n",
      "                print 'Sorry, you are not a registered member.'\n",
      "            else:\n",
      "                line_index = ID.index(input_id) #ID\uac00 \uc785\ub825\ub41c \uc21c\uc11c\uac00 \uace7 \ub77c\uc778\ubc88\ud638\n",
      "                break\n",
      "        #3-2) \uc785\ub825\ub41c ID\uac00 \uc62c\ubc14\ub974\uac8c \uc874\uc7ac\ud558\uc9c0\ub9cc Password \uc815\ubcf4\uac00 access \ud30c\uc77c\uc5d0 \uc788\ub294 \n",
      "        #\uc815\ubcf4\uc640 \ubd88\uc77c\uce58 \ud558\uba74 \ub2e4\uc74c\uacfc \uac19\uc740 \uba54\uc2dc\uc9c0\ub97c \ucd9c\ub825\ud558\uace0 \ub2e4\uc2dc \uc785\ub825\ubc1b\ub294\ub2e4.\n",
      "        while 1:\n",
      "            input_pw=sha.new(raw_input('Password: ')).hexdigest()\n",
      "            if input_pw != pw[line_index]:\n",
      "                print 'Sorry, the entered password is not correct.'\n",
      "            else:\n",
      "                break\n",
      "        #3-3) \uc785\ub825\ub41c ID\uc640 Password\uac00 \ubaa8\ub450 \uc62c\ubc14\ub974\uba74 \ub2e4\uc74c\uacfc \uac19\uc740 \uba54\uc2dc\uc9c0\ub97c \ucd9c\ub825\ud55c\ub2e4.\n",
      "        print 'Hello', name[line_index],'!'\n",
      "    #4) 3\uc744 \uc120\ud0dd\ud558\uba74 \ud504\ub85c\uadf8\ub7a8\uc774 \ub05d\ub09c\ub2e4.\n",
      "    else: #3\ubc88\uc744 \uc120\ud0dd\n",
      "        break; #\ud504\ub85c\uadf8\ub7a8 \uc885\ub8cc"
     ],
     "language": "python",
     "metadata": {},
     "outputs": [
      {
       "name": "stdout",
       "output_type": "stream",
       "stream": "stdout",
       "text": [
        "Welcome to Our Service\n",
        " 1. Sign Up\n",
        " 2. Sign In\n",
        " 3. Quit\n",
        "1\n"
       ]
      },
      {
       "name": "stdout",
       "output_type": "stream",
       "stream": "stdout",
       "text": [
        "id: kdh\n"
       ]
      },
      {
       "name": "stdout",
       "output_type": "stream",
       "stream": "stdout",
       "text": [
        "Password: 123\n"
       ]
      },
      {
       "name": "stdout",
       "output_type": "stream",
       "stream": "stdout",
       "text": [
        "name: kim\n"
       ]
      },
      {
       "name": "stdout",
       "output_type": "stream",
       "stream": "stdout",
       "text": [
        "school: kut\n"
       ]
      },
      {
       "name": "stdout",
       "output_type": "stream",
       "stream": "stdout",
       "text": [
        "Welcome to Our Service\n",
        " 1. Sign Up\n",
        " 2. Sign In\n",
        " 3. Quit\n",
        "1\n"
       ]
      },
      {
       "name": "stdout",
       "output_type": "stream",
       "stream": "stdout",
       "text": [
        "id: kdh\n"
       ]
      },
      {
       "output_type": "stream",
       "stream": "stdout",
       "text": [
        "Sorry, the entered ID is already used.\n"
       ]
      },
      {
       "name": "stdout",
       "output_type": "stream",
       "stream": "stdout",
       "text": [
        "id: kdj\n"
       ]
      },
      {
       "name": "stdout",
       "output_type": "stream",
       "stream": "stdout",
       "text": [
        "Password: qwe\n"
       ]
      },
      {
       "name": "stdout",
       "output_type": "stream",
       "stream": "stdout",
       "text": [
        "name: dong\n"
       ]
      },
      {
       "name": "stdout",
       "output_type": "stream",
       "stream": "stdout",
       "text": [
        "school: kut\n"
       ]
      },
      {
       "name": "stdout",
       "output_type": "stream",
       "stream": "stdout",
       "text": [
        "Welcome to Our Service\n",
        " 1. Sign Up\n",
        " 2. Sign In\n",
        " 3. Quit\n",
        "1\n"
       ]
      },
      {
       "name": "stdout",
       "output_type": "stream",
       "stream": "stdout",
       "text": [
        "id: kmo\n"
       ]
      },
      {
       "name": "stdout",
       "output_type": "stream",
       "stream": "stdout",
       "text": [
        "Password: asd\n"
       ]
      },
      {
       "name": "stdout",
       "output_type": "stream",
       "stream": "stdout",
       "text": [
        "name: min\n"
       ]
      },
      {
       "name": "stdout",
       "output_type": "stream",
       "stream": "stdout",
       "text": [
        "school: KUT\n"
       ]
      },
      {
       "name": "stdout",
       "output_type": "stream",
       "stream": "stdout",
       "text": [
        "Welcome to Our Service\n",
        " 1. Sign Up\n",
        " 2. Sign In\n",
        " 3. Quit\n",
        "2\n"
       ]
      },
      {
       "name": "stdout",
       "output_type": "stream",
       "stream": "stdout",
       "text": [
        "id: ko\n"
       ]
      },
      {
       "output_type": "stream",
       "stream": "stdout",
       "text": [
        "Sorry, you are not a registered member.\n"
       ]
      },
      {
       "name": "stdout",
       "output_type": "stream",
       "stream": "stdout",
       "text": [
        "id: kdh\n"
       ]
      },
      {
       "name": "stdout",
       "output_type": "stream",
       "stream": "stdout",
       "text": [
        "Password: asd\n"
       ]
      },
      {
       "output_type": "stream",
       "stream": "stdout",
       "text": [
        "Sorry, the entered password is not correct.\n"
       ]
      },
      {
       "name": "stdout",
       "output_type": "stream",
       "stream": "stdout",
       "text": [
        "Password: 123\n"
       ]
      },
      {
       "output_type": "stream",
       "stream": "stdout",
       "text": [
        "Hello kim !\n"
       ]
      },
      {
       "name": "stdout",
       "output_type": "stream",
       "stream": "stdout",
       "text": [
        "Welcome to Our Service\n",
        " 1. Sign Up\n",
        " 2. Sign In\n",
        " 3. Quit\n",
        "3\n"
       ]
      }
     ],
     "prompt_number": 3
    },
    {
     "cell_type": "heading",
     "level": 3,
     "metadata": {},
     "source": [
      "3. range() \ud568\uc218\uc640 \uc720\uc0ac\ud55c frange() \ud568\uc218\ub97c \ub2e4\uc74c \uc870\uac74\uc744 \ucc38\uace0\ud558\uc5ec \ub9cc\ub4dc\uc2dc\uc624."
     ]
    },
    {
     "cell_type": "code",
     "collapsed": false,
     "input": [
      "from decimal import * #\ubcf8 \ud568\uc218\uc5d0\uc11c \uc815\ud655\ud55c \uc2e4\uc218\uac12\uc73c\ub85c \uacc4\uc0b0\ud558\uae30 \uc704\ud568\n",
      "#\ubaa8\ub4e0 \uc778\uc790\uc758 \uae30\ubcf8 \uc778\uc218\ub294 None\uc73c\ub85c \ud558\uc600\uace0, \ub4e4\uc5b4\uc624\ub294 \uc778\uc218\uc758 \uac2f\uc218\uc5d0 \ub530\ub77c\n",
      "#\ubb38\uc81c\uc5d0\uc11c \uc8fc\uc5b4\uc9c4 \uae30\ubcf8\uac12\uc744 \uc801\uc6a9\ud558\uc600\uc2b5\ub2c8\ub2e4.\n",
      "def frange(start=None, stop=None, step=None):\n",
      "    if start==None and stop==None and step==None: #\uc778\uc218\uac00 \ud558\ub098\ub3c4 \uc5c6\ub294 \uacbd\uc6b0\n",
      "        print '\ud558\ub098 \uc774\uc0c1\uc758 \uc591\uc758 \uc778\uc218\ub97c \uc0ac\uc6a9\ud558\uc2dc\uc624.'\n",
      "        return\n",
      "    elif start!=None and stop==None and step==None: #\uc778\uc218\uac00 \ud558\ub098\uc778 \uacbd\uc6b0\n",
      "        if start<0: #\uc778\uc218\uac00 \uc74c\uc218\uc778 \uacbd\uc6b0\n",
      "            print '\uac01 \uc778\uc218\ub4e4\uc740 \uc74c\uc218\ub97c \ubc1b\uc744 \uc218 \uc5c6\uc2b5\ub2c8\ub2e4.'\n",
      "            return\n",
      "        else:\n",
      "            stop=Decimal(start)\n",
      "            start=Decimal('0.0')\n",
      "            step=Decimal('0.1')\n",
      "    elif start!=None and stop!=None and step==None: #\uc778\uc218\uac00 \ub458\uc778 \uacbd\uc6b0\n",
      "        if start<0 or stop<0: #\uc778\uc218\uac00 \uc74c\uc218\uc778 \uacbd\uc6b0\n",
      "            print '\uac01 \uc778\uc218\ub4e4\uc740 \uc74c\uc218\ub97c \ubc1b\uc744 \uc218 \uc5c6\uc2b5\ub2c8\ub2e4.'\n",
      "            return\n",
      "        else:\n",
      "            start=Decimal(start)\n",
      "            stop=Decimal(stop)\n",
      "            step=Decimal('0.1')\n",
      "    else: #\uc778\uc218\uac00 \uc14b\uc778 \uacbd\uc6b0\n",
      "        if start<0 or stop<0 or step<0: #\uc778\uc218\uac00 \uc74c\uc218\uc778 \uacbd\uc6b0\n",
      "            print '\uac01 \uc778\uc218\ub4e4\uc740 \uc74c\uc218\ub97c \ubc1b\uc744 \uc218 \uc5c6\uc2b5\ub2c8\ub2e4.'\n",
      "            return\n",
      "        else:\n",
      "            start=Decimal(start)\n",
      "            stop=Decimal(stop)\n",
      "            step=Decimal(step)\n",
      "    results=[] #\uacb0\uacfc \uc800\uc7a5\n",
      "    value=start\n",
      "    while(value<stop):\n",
      "        results.append(float(value))\n",
      "        value+=step\n",
      "    return results\n",
      "\n",
      "print frange(0.5)\n",
      "print frange(1.0, 2.0)\n",
      "print frange(2.2, 4.0, 0.5)"
     ],
     "language": "python",
     "metadata": {},
     "outputs": [
      {
       "output_type": "stream",
       "stream": "stdout",
       "text": [
        "[0.0, 0.1, 0.2, 0.3, 0.4]\n",
        "[1.0, 1.1, 1.2, 1.3, 1.4, 1.5, 1.6, 1.7, 1.8, 1.9]\n",
        "[2.2, 2.7, 3.2, 3.7]\n"
       ]
      }
     ],
     "prompt_number": 4
    },
    {
     "cell_type": "heading",
     "level": 3,
     "metadata": {},
     "source": [
      "4. \uac00\ubcc0\uc778\uc218\ub97c \ubc1b\ub294 \ud568\uc218 sum()\uc744 \ub2e4\uc74c\uacfc \uac19\uc740 \uc870\uac74\uc744 \ucc38\uace0\ud558\uc5ec \uad6c\ud604\ud558\uc2dc\uc624"
     ]
    },
    {
     "cell_type": "code",
     "collapsed": false,
     "input": [
      "def sum(*args): #\uc544\ubb34 \uc778\uc218\ub3c4 \uc5c6\ub2e4\uba74 None\n",
      "    result=0 #\uc778\uc218\ub97c \ubaa8\ub450 \ud569\uce5c \uacb0\uacfc\uac12\n",
      "    for ele in args:\n",
      "        result+=ele\n",
      "    return result\n",
      "\n",
      "print sum()    \n",
      "print sum(1,2)\n",
      "print sum(1,2,3,4,5)\n",
      "print sum(1,5,7,2,-10)"
     ],
     "language": "python",
     "metadata": {},
     "outputs": [
      {
       "output_type": "stream",
       "stream": "stdout",
       "text": [
        "0\n",
        "3\n",
        "15\n",
        "5\n"
       ]
      }
     ],
     "prompt_number": 5
    },
    {
     "cell_type": "heading",
     "level": 3,
     "metadata": {},
     "source": [
      "5. \uc5ec\ub7ec \ub2e8\uc5b4\ub85c \uc774\ub8e8\uc5b4\uc9c4 \ubb38\uc790\uc5f4\uc744 \uc785\ub825\ubc1b\uc544 \uac01 \ub2e8\uc5b4\uc758 \uccab\uae00\uc790\ub85c \uc774\ub8e8\uc5b4\uc9c4 \ub2e8\uc5b4\ub97c \ub300\ubb38\uc790\ub85c \ucd9c\ub825\ud558\ub294 myinitial() \ud568\uc218\ub97c \ub2e4\uc74c \uc870\uac74\uc744 \ucc38\uace0\ud558\uc5ec \uc791\uc131\ud558\uc2dc\uc624."
     ]
    },
    {
     "cell_type": "code",
     "collapsed": false,
     "input": [
      "def myinitial(contents): #contents: \uc785\ub825\ubc1b\uc744 \ubb38\uc790\uc5f4\n",
      "    words = contents.split() #\uacf5\ubc31\ubb38\uc790 \uae30\uc900\uc73c\ub85c \ubb38\uc790\uc5f4 \ucabc\uac1c\uae30\n",
      "    chars=[] #\ubb38\uc790\uc5f4\uc758 \uba38\ub9ac\ubb38\uc790\ub97c \uc800\uc7a5\ud558\ub294 \ub9ac\uc2a4\ud2b8\n",
      "    for word in words:\n",
      "        chars.append(word[:1]) #\ubb38\uc790\uc5f4\uc758 \uba38\ub9ac\ubb38\uc790\ub97c \uc800\uc7a5\n",
      "    results = map(lambda ch: ch.title(), chars)\n",
      "    result = ''.join(results)\n",
      "    return result\n",
      "\n",
      "print myinitial(\"as soon as possible\") "
     ],
     "language": "python",
     "metadata": {},
     "outputs": [
      {
       "output_type": "stream",
       "stream": "stdout",
       "text": [
        "ASAP\n"
       ]
      }
     ],
     "prompt_number": 6
    },
    {
     "cell_type": "heading",
     "level": 3,
     "metadata": {},
     "source": [
      "6. \uc74c\uc774 \uc544\ub2cc \uc815\uc218 n\ub97c \uc785\ub825\ubc1b\uc73c\uba74 n! (factorial)\uc744 \uacc4\uc0b0\ud558\ub294 myfact() \ud568\uc218\ub97c \uc7ac\uadc0\uc801 \ud568\uc218\ub85c \uad6c\ud604\ud558\uc2dc\uc624."
     ]
    },
    {
     "cell_type": "code",
     "collapsed": false,
     "input": [
      "def myfact(n): #\uc815\uc218 n\n",
      "    if n<0: #\uc74c\uc218\ub97c \uc785\ub825\ubc1b\uc558\uc744 \ub54c \n",
      "        print '\uc591\uc218\ub97c \uc785\ub825\ud574\uc8fc\uc138\uc694.'\n",
      "        return\n",
      "    elif n==0 or n==1: #0 \ud639\uc740 1\uc744 \uc785\ub825\ubc1b\uc558\uc744 \ub54c \n",
      "        return 1 #0!=1\uc774\ub2e4.\n",
      "    else: #n>1\n",
      "        return n*myfact(n-1)\n",
      "\n",
      "print myfact(5)\n",
      "print myfact(10)"
     ],
     "language": "python",
     "metadata": {},
     "outputs": [
      {
       "output_type": "stream",
       "stream": "stdout",
       "text": [
        "120\n",
        "3628800\n"
       ]
      }
     ],
     "prompt_number": 7
    },
    {
     "cell_type": "heading",
     "level": 3,
     "metadata": {},
     "source": [
      "7. import string \uacfc from string import * \uc758 \ucc28\uc774\uc810\uc744 \uc124\uba85\ud558\uc2dc\uc624."
     ]
    },
    {
     "cell_type": "markdown",
     "metadata": {},
     "source": [
      "improt string \uacfc from string import * \ubaa8\ub450 string(\ubaa8\ub4c8) namespace\uc758 \ubaa8\ub4e0 \ud568\uc218, \ud074\ub798\uc2a4 \ubc0f \ubcc0\uc218\ub97c \uc0ac\uc6a9\ud558\uaca0\ub2e4\ub294 \uc758\ubbf8\uc785\ub2c8\ub2e4.\n",
      "\ucc28\uc774\uc810\uc740 import stirng \uc740 \uc0ac\uc6a9\ud558\ub824\ub294 \uac83 \uc55e\uc5d0 \ubaa8\ub4c8\uc758 \uc774\ub984\uc744 \ubd99\uc5ec\uc57c \ud569\ub2c8\ub2e4."
     ]
    },
    {
     "cell_type": "code",
     "collapsed": false,
     "input": [
      "#ex)\n",
      "import math\n",
      "print math.ceil(2.1)\n",
      "#print ceil(2.1) #\uc5d0\ub7ec \ubc1c\uc0dd!"
     ],
     "language": "python",
     "metadata": {},
     "outputs": [
      {
       "output_type": "stream",
       "stream": "stdout",
       "text": [
        "3.0\n"
       ]
      }
     ],
     "prompt_number": 12
    },
    {
     "cell_type": "markdown",
     "metadata": {},
     "source": [
      "import string from *\uc740 \ubaa8\ub4c8\uc758 \uc774\ub984\uc744 \ubd99\uc77c \ud544\uc694\uac00 \uc5c6\uc2b5\ub2c8\ub2e4."
     ]
    },
    {
     "cell_type": "code",
     "collapsed": false,
     "input": [
      "#ex)\n",
      "from math import *\n",
      "print math.ceil(2.1)\n",
      "print ceil(2.1) #\uc5d0\ub7ec\uac00 \ubc1c\uc0dd\ud558\uc9c0 \uc54a\uc74c"
     ],
     "language": "python",
     "metadata": {},
     "outputs": [
      {
       "output_type": "stream",
       "stream": "stdout",
       "text": [
        "3.0\n",
        "3.0\n"
       ]
      }
     ],
     "prompt_number": 11
    },
    {
     "cell_type": "heading",
     "level": 3,
     "metadata": {},
     "source": [
      "8. \uc774\uc804 Assignment 3\uc758 \ub9c8\uc9c0\ub9c9 \ubb38\uc81c\ub294 \uc6f9 URL\ub85c \uc9c0\uc815\ub41c \uc6f9\ud398\uc774\uc9c0\ub97c \ubb38\uc790\uc5f4\ub85c \uac00\uc838\uc640 \ubaa8\ub4e0 HTML \ud0dc\uadf8 \ubc0f CSS\uc640 Javascript\ub97c \uc81c\uc678\ud55c \uc21c\uc218 \ud14d\uc2a4\ud2b8\ub97c \uc5bb\uc5b4\ub0b4\uace0 \uadf8 \uc548\uc5d0 \uc874\uc7ac\ud558\ub294 \ub2e8\uc5b4\ub97c \ucd94\ucd9c\ud558\uc5ec \uac01 \ub2e8\uc5b4\ub4e4\uc5d0 \ub300\ud574 \ucd9c\ud604\ube48\ub3c4\ub97c \uc0ac\uc804\ud615\ud0dc({'world': 2, 'hello': 1, 'python': 1})\ub85c \uc800\uc7a5\ud558\uc5ec \ucd9c\ub825\ud558\ub294 \uac83\uc774\uc5c8\ub2e4. \uc774\ubc88\uc5d0\ub294 Assignment 3\ub97c \ud655\uc7a5\ud558\uc5ec \ub2e4\uc74c\uacfc \uac19\uc740 \uc870\uac74\uc744 \ub9cc\uc871\ud558\ub3c4\ub85d \uad6c\ud604\ud558\uc2dc\uc624. "
     ]
    },
    {
     "cell_type": "code",
     "collapsed": false,
     "input": [
      "#\ub85c\ub529\uc774 \uc880 \uc624\ub798\uac78\ub9b4 \uc218 \uc788\uc2b5\ub2c8\ub2e4.\n",
      "import urllib\n",
      "import re #\ud2b9\uc218\ubb38\uc790 \uc81c\uac70\ub97c \uc704\ud568\n",
      "import pickle #pickling\uc744 \uc704\ud568\n",
      "\n",
      "class dic_class: #\uc0ac\uc804\uc744 \ub2f4\ub294 \ud074\ub798\uc2a4\n",
      "    def __init__(self): #\uc0dd\uc131\uc790\n",
      "        self.dic={}\n",
      "    def get_dic(self): #\uc774 \ud074\ub798\uc2a4\uc758 dic\uc744 \ubc18\ud658\n",
      "        return self.dic\n",
      "#6\uac1c\uc758 \uc6f9 \uc0ac\uc774\ud2b8(\ucd5c\uc18c 5\uac1c \uc774\uc0c1\uc758 \uc6f9 \uc0ac\uc774\ud2b8\uc5d0 \ub300\ud55c \ud30c\uc77c \uc870\uac74\uc5d0 \ucda9\uc871)\n",
      "sites = [\"http://www.nbviewer.org\", \"http://www.amazon.com\", \"http://www.apple.com\",\\\n",
      "         \"http://www.bbc.com\", \"http://www.fcc.gov\", \"http://www.nfl.com\"]\n",
      "for site in sites:\n",
      "    f_name = site[7:] #\ud574\ub2f9 \uc0ac\uc774\ud2b8\uc758 \uc774\ub984 / \ub9e8\uc55e\uc758 http://\ub97c \uc81c\uac70\ud574\uc57c\ud558\ubbc0\ub85c index 7\ubd80\ud130 \uc2dc\uc791\n",
      "    source = urllib.urlopen(site).read()\n",
      "    len_source = len(source)\n",
      "    #1) \uac01 URL\ub85c \uc9c0\uc815\ub41c \uc6f9\ud398\uc774\uc9c0\uc758 HTML \uc18c\uc2a4\ub97c \ud30c\uc77c\ub85c \uc800\uc7a5\ud558\uc2dc\uc624.\n",
      "    f = open(f_name+'.html', 'w')\n",
      "    f.write(source)\n",
      "    dic=dic_class() #\uac01 \ub2e8\uc5b4\ub4e4\uc758 \ucd9c\ud604\ube48\ub3c4\ub97c \uc0ac\uc804\ud615\ud0dc \ud074\ub798\uc2a4\ub85c \uc800\uc7a5\n",
      "\n",
      "    source_new = None\n",
      "    i = 0\n",
      "    while (i < len_source):\n",
      "        found = False\n",
      "        if (found != True and source[i] == \"<\" and source[i+1 : i+7].lower() == \"script\"):\n",
      "            found = True;\n",
      "            j = i + 7;\n",
      "            while (True):\n",
      "                if (source[j] == \"<\" and source[j+1] == \"/\" and source[j+2 : j+8].lower() == \"script\"):\n",
      "                    #print \"found - script\"\n",
      "                    source = source[:i] + ' ' + source[j+9:]\n",
      "                    break\n",
      "                j = j + 1\n",
      "                if (j > len_source):\n",
      "                    break\n",
      "            len_source = len(source)\n",
      "        i = i + 1\n",
      "\n",
      "    len_source = len(source)\n",
      "\n",
      "    i = 0\n",
      "    while (i < len_source):\n",
      "        found = False\n",
      "        if (found != True and source[i] == \"<\" and source[i+1 : i+6].lower() == \"style\"):\n",
      "            found = True;\n",
      "            j = i + 6;\n",
      "            while (True):\n",
      "                if (source[j] == \"<\" and source[j+1] == \"/\" and source[j+2 : j+7].lower() == \"style\"):\n",
      "                    #print \"found - style\"\n",
      "                    source = source[:i] + ' ' + source[j+8:]\n",
      "                    break\n",
      "                j = j + 1\n",
      "                if (j > len_source):\n",
      "                    break\n",
      "            len_source = len(source)\n",
      "        i = i + 1\n",
      "\n",
      "    len_source = len(source)\n",
      "\n",
      "    i = 0\n",
      "    while (i < len_source):\n",
      "        found = False\n",
      "        if (found != True and source[i] == \"<\"):\n",
      "            found = True;\n",
      "            j = i + 1;\n",
      "            while (True):\n",
      "                if (source[j] == \">\"):\n",
      "                    #print \"found - HTML tag\"\n",
      "                    source = source[:i] + ' ' + source[j+1:]\n",
      "                    break\n",
      "                j = j + 1\n",
      "                if (j > len_source):\n",
      "                    break\n",
      "            len_source = len(source)\n",
      "        i = i + 1\n",
      "\n",
      "    words = source.split()\n",
      "\n",
      "    for word in words:\n",
      "        word=re.sub('[^\uac00-\ud79d0-9a-zA-Z\\\\s]', '', word) #\ud2b9\uc218\ubb38\uc790 \uc81c\uac70\n",
      "        if word!='':\n",
      "            #\ud574\ub2f9 \ubb38\uc790\uc5d0 \ub300\ud55c \uc0ac\uc804\uac12(key\uac12)\uc774 \uc815\uc758\ub418\uc5b4 \uc788\uc9c0 \uc54a\ub2e4\uba74 \uc2e0\uaddc\ub85c \uc815\uc758\ud568\n",
      "            if(dic.get_dic().get(word) == None):\n",
      "                dic.get_dic()[word]=1\n",
      "            else: #\uc2e0\uaddc\uac00 \uc544\ub2c8\ub77c\uba74 \ube48\ub3c4\uc218(value\uac12)\uc5d0 1\uc744 \ub354\ud568 \n",
      "                dic.get_dic()[word]+=1\n",
      "    #2)\ub2e8\uc5b4\uc758 \ucd9c\ud604\ube48\ub3c4\uac00 \ub2f4\uae34 \uc0ac\uc804 \uac1d\uccb4\ub97c \uc704 HTML \uc18c\uc2a4 \ud30c\uc77c\uacfc \ub3d9\uc77c\ud55c \ud3f4\ub354\uc5d0 \n",
      "    #\ud30c\uc77c\ub85c \uc800\uc7a5\ud558\uc2dc\uc624.\n",
      "    f = open(f_name+'.words.frequency', 'w')\n",
      "    pickle.dump(dic, f) #\uc778\uc2a4\ud134\uc2a4 \uc800\uc7a5\n",
      "    f.close()\n",
      "\n",
      "    "
     ],
     "language": "python",
     "metadata": {},
     "outputs": [],
     "prompt_number": 9
    },
    {
     "cell_type": "heading",
     "level": 3,
     "metadata": {},
     "source": [
      "9. \uc704 \ubb38\uc81c\uc5d0\uc11c \uc800\uc7a5\ud55c \ubaa8\ub4e0 words.frequency \ud30c\uc77c\ub4e4\uc744 \ub85c\ub4dc \ud558\uc5ec \ubcf8\uc778\uc774 \uc800\uc7a5\ud558\uc5ec \ubd84\uc11d\ud55c \uc0ac\uc774\ud2b8\ub4e4\uc5d0\uc11c \uac00\uc7a5 \ub9ce\uc774 \ucd9c\ud604\ud55c \ub2e8\uc5b4\ub97c \ubf51\uc544 \uc81c\uc2dc\ud558\uc2dc\uc624."
     ]
    },
    {
     "cell_type": "code",
     "collapsed": false,
     "input": [
      "import pickle #pickling\uc744 \uc704\ud568\n",
      "\n",
      "max_words=[] #\uc6f9 \uc0ac\uc774\ud2b8\ubcc4\ub85c \uac00\uc7a5 \ub9ce\uc774 \uc4f0\uc778 \ub2e8\uc5b4\uc640 \ube48\ub3c4\uc218\ub97c \uc800\uc7a5\n",
      "sites = [\"http://www.nbviewer.org\", \"http://www.amazon.com\", \"http://www.apple.com\",\\\n",
      "         \"http://www.bbc.com\", \"http://www.fcc.gov\", \"http://www.nfl.com\"]\n",
      "#sites = [\"http://www.nbviewer.org\"]\n",
      "for site in sites:\n",
      "    f_name = site[7:] #\ud574\ub2f9 \uc0ac\uc774\ud2b8\uc758 \uc774\ub984 / \ub9e8\uc55e\uc758 http://\ub97c \uc81c\uac70\ud574\uc57c\ud558\ubbc0\ub85c index 7\ubd80\ud130 \uc2dc\uc791\n",
      "    f = open(f_name+'.words.frequency')\n",
      "    p = pickle.load(f) #\ud574\ub2f9 \ud30c\uc77c \ud53c\ud074\ub9c1\n",
      "    \n",
      "    L=p.get_dic().items() #\uc0ac\uc804\uc758 items \uc800\uc7a5\n",
      "    L.sort(reverse=True, key=lambda item:item[1]) #value\uac12\uc5d0 \ub530\ub77c \uc624\ub984\ucc28\uc21c\uc73c\ub85c \uc815\ub82c\n",
      "    max_item=L[0] #\ub0b4\ub9bc\ucc28\uc21c \uc815\ub82c\uc744 \ud558\uc600\uc73c\ubbc0\ub85c \uccab \ubc88\uc9f8 \uc778\uc790\uac00 \uac00\uc7a5 \ud06c\ub2e4. / max_item[0]:key, max_item[1]:value\n",
      "    max_word=(f_name,max_item) #\uc6f9 \uc0ac\uc774\ud2b8 \uc774\ub984, \ucd5c\ub2e4 \ube48\ub3c4 \ub2e8\uc5b4\uba85, \ube48\ub3c4\uc218 \uae30\ub85d \uae30\ub85d\n",
      "    max_words.append(max_word)                  \n",
      "    print '<'+f_name+' \uc6f9 \uc0ac\uc774\ud2b8\uc5d0\uc11c \uac00\uc7a5 \ub9ce\uc774 \ucd9c\ud604\ud55c \ub2e8\uc5b4'+'>'\n",
      "    print max_item[0],':',max_item[1]\n",
      "    print #\uac1c\ud589\n",
      "#\uc8fc\uc5b4\uc9c4 \uc6f9 \uc0ac\uc774\ud2b8 \uc911 \uac00\uc7a5 \ub9ce\uc740 \ube48\ub3c4\uc218\ub97c \uac00\uc9c4 \ub2e8\uc5b4\ub97c \ucc3e\uae30\uc704\ud574 sorting\ud55c\ub2e4.\n",
      "max_words.sort(reverse=True, key=lambda item:item[1][1]) #max_words[1][1]\uc5d0 \ube48\ub3c4\uc218\uac00 \uc800\uc7a5\ub418\uc5b4 \uc788\uc74c.\n",
      "#max_words[0]: \ucd5c\ub2e4 \ube48\ub3c4 \ub2e8\uc5b4\ub97c \uac00\uc9c4 \uc6f9 \uc0ac\uc774\ud2b8\uc758 \uc815\ubcf4\n",
      "#max_words[][0]: \uc6f9\uc0ac\uc774\ud2b8 \uc774\ub984, max_words[][1][0]: \ub2e8\uc5b4 \uc774\ub984, max_words[][1][1]: \ube48\ub3c4 \uc218\n",
      "print '\uc704',len(sites),'\uac1c\uc758 \uc6f9 \uc0ac\uc774\ud2b8\uc5d0\uc11c \uac00\uc7a5 \ub9ce\uc774 \ub4f1\uc7a5\ud55c \ub2e8\uc5b4\ub294',max_words[0][0],'\uc6f9 \uc0ac\uc774\ud2b8\uc758'\n",
      "print max_words[0][1][0],':',max_words[0][1][1],'\uc785\ub2c8\ub2e4.' \n",
      "            \n"
     ],
     "language": "python",
     "metadata": {},
     "outputs": [
      {
       "output_type": "stream",
       "stream": "stdout",
       "text": [
        "<www.nbviewer.org \uc6f9 \uc0ac\uc774\ud2b8\uc5d0\uc11c \uac00\uc7a5 \ub9ce\uc774 \ucd9c\ud604\ud55c \ub2e8\uc5b4>\n",
        "nbviewer : 5\n",
        "\n",
        "<www.amazon.com \uc6f9 \uc0ac\uc774\ud2b8\uc5d0\uc11c \uac00\uc7a5 \ub9ce\uc774 \ucd9c\ud604\ud55c \ub2e8\uc5b4>\n",
        "Amazon : 14\n",
        "\n",
        "<www.apple.com \uc6f9 \uc0ac\uc774\ud2b8\uc5d0\uc11c \uac00\uc7a5 \ub9ce\uc774 \ucd9c\ud604\ud55c \ub2e8\uc5b4>\n",
        "Apple : 8\n",
        "\n",
        "<www.bbc.com \uc6f9 \uc0ac\uc774\ud2b8\uc5d0\uc11c \uac00\uc7a5 \ub9ce\uc774 \ucd9c\ud604\ud55c \ub2e8\uc5b4>\n",
        "the : 33\n",
        "\n",
        "<www.fcc.gov \uc6f9 \uc0ac\uc774\ud2b8\uc5d0\uc11c \uac00\uc7a5 \ub9ce\uc774 \ucd9c\ud604\ud55c \ub2e8\uc5b4>\n",
        "the : 23\n",
        "\n",
        "<www.nfl.com \uc6f9 \uc0ac\uc774\ud2b8\uc5d0\uc11c \uac00\uc7a5 \ub9ce\uc774 \ucd9c\ud604\ud55c \ub2e8\uc5b4>\n",
        "the : 63\n",
        "\n",
        "\uc704 6 \uac1c\uc758 \uc6f9 \uc0ac\uc774\ud2b8\uc5d0\uc11c \uac00\uc7a5 \ub9ce\uc774 \ub4f1\uc7a5\ud55c \ub2e8\uc5b4\ub294 www.nfl.com \uc6f9 \uc0ac\uc774\ud2b8\uc758\n",
        "the : 63 \uc785\ub2c8\ub2e4.\n"
       ]
      }
     ],
     "prompt_number": 10
    },
    {
     "cell_type": "markdown",
     "metadata": {},
     "source": [
      "\uc18c\uac10 : \uacfc\uc81c\uae30\ud55c\uc744 \uc798\ubabb \uc54c\uc558\uc2b5\ub2c8\ub2e4. \ub2a6\uac8c \uc81c\ucd9c\ud574\uc11c \uc8c4\uc1a1\ud569\ub2c8\ub2e4. \uc774\ubc88 \uacfc\uc81c\ub97c \ud558\uba74\uc11c file \ubc0f class\uc5d0 \ub300\ud574 \ub354 \uc798 \ub2e4\ub8e8\uac8c \ub41c \uac83 \uac19\uc2b5\ub2c8\ub2e4. \uc88b\uc740 \uacfc\uc81c \ub0b4\uc8fc\uc2e0 \uad50\uc218\ub2d8 \ubc0f \ud559\ubd80\uc0dd\ub4e4\uc744 \uc704\ud574 \ud798\uc368\uc8fc\uc2dc\ub294 \uc870\uad50\ub2d8\uaed8 \uac10\uc0ac\ud569\ub2c8\ub2e4."
     ]
    }
   ],
   "metadata": {}
  }
 ]
}